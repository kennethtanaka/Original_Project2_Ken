{
 "cells": [
  {
   "cell_type": "code",
   "execution_count": 1,
   "metadata": {},
   "outputs": [],
   "source": [
    "# Dependencies\n",
    "import pandas as pd\n",
    "import numpy as np\n",
    "import io\n",
    "import requests\n",
    "import json\n",
    "\n",
    "# API Key\n",
    "#from config import key"
   ]
  },
  {
   "cell_type": "code",
   "execution_count": 2,
   "metadata": {},
   "outputs": [],
   "source": [
    "# Import SQLAlchemy `automap` and other dependencies\n",
    "import sqlalchemy\n",
    "from sqlalchemy.ext.automap import automap_base\n",
    "from sqlalchemy.orm import Session\n",
    "from sqlalchemy import create_engine, inspect\n",
    "from sqlalchemy import Column, Integer, String, Float\n",
    "from sqlalchemy.ext.declarative import declarative_base\n",
    "Base = declarative_base()"
   ]
  },
  {
   "cell_type": "markdown",
   "metadata": {},
   "source": [
    "# Dow Jones Industrial Average"
   ]
  },
  {
   "cell_type": "code",
   "execution_count": 3,
   "metadata": {},
   "outputs": [],
   "source": [
    "# Build the endpoint URL for Dow Jones Industrial Average\n",
    "# Time : one day interval\n",
    "target_url = ('https://api.twelvedata.com/time_series?symbol=DJI&exchange=NYSE&start_date=2020-01-01&interval=1day&apikey=b038f2a0c07c441693f65d634334050f')"
   ]
  },
  {
   "cell_type": "code",
   "execution_count": 4,
   "metadata": {},
   "outputs": [],
   "source": [
    "# Run a request to endpoint and convert result to json\n",
    "DJI_data = requests.get(target_url).json()"
   ]
  },
  {
   "cell_type": "code",
   "execution_count": 5,
   "metadata": {},
   "outputs": [],
   "source": [
    "# Print the json (pretty printed)\n",
    "#print(json.dumps(DJI_data[\"values\"], indent=4, sort_keys=True))"
   ]
  },
  {
   "cell_type": "code",
   "execution_count": 6,
   "metadata": {},
   "outputs": [],
   "source": [
    "DJI_df = pd.DataFrame (DJI_data[\"values\"])\n",
    "#DJI_df= DJI_df.rename(columns={\"index\":\"id\"})\n",
    "DJI_df[\"name\"] = \"DJI\""
   ]
  },
  {
   "cell_type": "code",
   "execution_count": 7,
   "metadata": {},
   "outputs": [
    {
     "data": {
      "text/html": [
       "<div>\n",
       "<style scoped>\n",
       "    .dataframe tbody tr th:only-of-type {\n",
       "        vertical-align: middle;\n",
       "    }\n",
       "\n",
       "    .dataframe tbody tr th {\n",
       "        vertical-align: top;\n",
       "    }\n",
       "\n",
       "    .dataframe thead th {\n",
       "        text-align: right;\n",
       "    }\n",
       "</style>\n",
       "<table border=\"1\" class=\"dataframe\">\n",
       "  <thead>\n",
       "    <tr style=\"text-align: right;\">\n",
       "      <th></th>\n",
       "      <th>datetime</th>\n",
       "      <th>open</th>\n",
       "      <th>high</th>\n",
       "      <th>low</th>\n",
       "      <th>close</th>\n",
       "      <th>volume</th>\n",
       "      <th>name</th>\n",
       "    </tr>\n",
       "  </thead>\n",
       "  <tbody>\n",
       "    <tr>\n",
       "      <th>0</th>\n",
       "      <td>2020-03-31</td>\n",
       "      <td>22208.41992</td>\n",
       "      <td>22480.36914</td>\n",
       "      <td>21884.60938</td>\n",
       "      <td>22031.16992</td>\n",
       "      <td>253396096</td>\n",
       "      <td>DJI</td>\n",
       "    </tr>\n",
       "    <tr>\n",
       "      <th>1</th>\n",
       "      <td>2020-03-30</td>\n",
       "      <td>21824.17969</td>\n",
       "      <td>22378.08984</td>\n",
       "      <td>21522.08008</td>\n",
       "      <td>22322.91016</td>\n",
       "      <td>299583961</td>\n",
       "      <td>DJI</td>\n",
       "    </tr>\n",
       "    <tr>\n",
       "      <th>2</th>\n",
       "      <td>2020-03-27</td>\n",
       "      <td>21898.47070</td>\n",
       "      <td>22327.57031</td>\n",
       "      <td>21472.33984</td>\n",
       "      <td>21612.61914</td>\n",
       "      <td>354169567</td>\n",
       "      <td>DJI</td>\n",
       "    </tr>\n",
       "    <tr>\n",
       "      <th>3</th>\n",
       "      <td>2020-03-26</td>\n",
       "      <td>21619.48047</td>\n",
       "      <td>22595.06055</td>\n",
       "      <td>21490.67969</td>\n",
       "      <td>22535.64062</td>\n",
       "      <td>403068931</td>\n",
       "      <td>DJI</td>\n",
       "    </tr>\n",
       "    <tr>\n",
       "      <th>4</th>\n",
       "      <td>2020-03-25</td>\n",
       "      <td>20860.40039</td>\n",
       "      <td>22019.92969</td>\n",
       "      <td>20538.33984</td>\n",
       "      <td>21196.33984</td>\n",
       "      <td>454357332</td>\n",
       "      <td>DJI</td>\n",
       "    </tr>\n",
       "  </tbody>\n",
       "</table>\n",
       "</div>"
      ],
      "text/plain": [
       "     datetime         open         high          low        close     volume  \\\n",
       "0  2020-03-31  22208.41992  22480.36914  21884.60938  22031.16992  253396096   \n",
       "1  2020-03-30  21824.17969  22378.08984  21522.08008  22322.91016  299583961   \n",
       "2  2020-03-27  21898.47070  22327.57031  21472.33984  21612.61914  354169567   \n",
       "3  2020-03-26  21619.48047  22595.06055  21490.67969  22535.64062  403068931   \n",
       "4  2020-03-25  20860.40039  22019.92969  20538.33984  21196.33984  454357332   \n",
       "\n",
       "  name  \n",
       "0  DJI  \n",
       "1  DJI  \n",
       "2  DJI  \n",
       "3  DJI  \n",
       "4  DJI  "
      ]
     },
     "execution_count": 7,
     "metadata": {},
     "output_type": "execute_result"
    }
   ],
   "source": [
    "#convert to csv file\n",
    "DJI_df.to_csv(\"DJI.csv\",index=False)\n",
    "DJI_df.head()"
   ]
  },
  {
   "cell_type": "markdown",
   "metadata": {},
   "source": [
    "# S&P 500"
   ]
  },
  {
   "cell_type": "code",
   "execution_count": 8,
   "metadata": {},
   "outputs": [],
   "source": [
    "# Build the endpoint URL for S&P 500\n",
    "# Time : one day interval\n",
    "target_url = ('https://api.twelvedata.com/time_series?symbol=GSPC&start_date=2020-01-01&interval=1day&apikey=b038f2a0c07c441693f65d634334050f')"
   ]
  },
  {
   "cell_type": "code",
   "execution_count": 9,
   "metadata": {},
   "outputs": [],
   "source": [
    "# Run a request to endpoint and convert result to json\n",
    "SNP_data = requests.get(target_url).json()"
   ]
  },
  {
   "cell_type": "code",
   "execution_count": 10,
   "metadata": {},
   "outputs": [],
   "source": [
    "# Print the json (pretty printed)\n",
    "#print(json.dumps(SNP_data[\"values\"], indent=4, sort_keys=True))"
   ]
  },
  {
   "cell_type": "code",
   "execution_count": 11,
   "metadata": {},
   "outputs": [],
   "source": [
    "SNP_df = pd.DataFrame (SNP_data[\"values\"])\n",
    "#SNP_df= SNP_df.rename(columns={\"index\":\"id\"})\n",
    "SNP_df[\"name\"] = \"SNP\""
   ]
  },
  {
   "cell_type": "code",
   "execution_count": 12,
   "metadata": {},
   "outputs": [
    {
     "data": {
      "text/html": [
       "<div>\n",
       "<style scoped>\n",
       "    .dataframe tbody tr th:only-of-type {\n",
       "        vertical-align: middle;\n",
       "    }\n",
       "\n",
       "    .dataframe tbody tr th {\n",
       "        vertical-align: top;\n",
       "    }\n",
       "\n",
       "    .dataframe thead th {\n",
       "        text-align: right;\n",
       "    }\n",
       "</style>\n",
       "<table border=\"1\" class=\"dataframe\">\n",
       "  <thead>\n",
       "    <tr style=\"text-align: right;\">\n",
       "      <th></th>\n",
       "      <th>datetime</th>\n",
       "      <th>open</th>\n",
       "      <th>high</th>\n",
       "      <th>low</th>\n",
       "      <th>close</th>\n",
       "      <th>volume</th>\n",
       "      <th>name</th>\n",
       "    </tr>\n",
       "  </thead>\n",
       "  <tbody>\n",
       "    <tr>\n",
       "      <th>0</th>\n",
       "      <td>2020-03-31</td>\n",
       "      <td>2614.82007</td>\n",
       "      <td>2640.98999</td>\n",
       "      <td>2571.14990</td>\n",
       "      <td>2590.37012</td>\n",
       "      <td>1971933120</td>\n",
       "      <td>SNP</td>\n",
       "    </tr>\n",
       "    <tr>\n",
       "      <th>1</th>\n",
       "      <td>2020-03-30</td>\n",
       "      <td>2565.37988</td>\n",
       "      <td>2631.80005</td>\n",
       "      <td>2545.28003</td>\n",
       "      <td>2626.04004</td>\n",
       "      <td>2225339428</td>\n",
       "      <td>SNP</td>\n",
       "    </tr>\n",
       "    <tr>\n",
       "      <th>2</th>\n",
       "      <td>2020-03-27</td>\n",
       "      <td>2543.04004</td>\n",
       "      <td>2615.90991</td>\n",
       "      <td>2520.65991</td>\n",
       "      <td>2540.04004</td>\n",
       "      <td>2063538660</td>\n",
       "      <td>SNP</td>\n",
       "    </tr>\n",
       "    <tr>\n",
       "      <th>3</th>\n",
       "      <td>2020-03-26</td>\n",
       "      <td>2521.12012</td>\n",
       "      <td>2637.01001</td>\n",
       "      <td>2506.44995</td>\n",
       "      <td>2629.37012</td>\n",
       "      <td>2655840625</td>\n",
       "      <td>SNP</td>\n",
       "    </tr>\n",
       "    <tr>\n",
       "      <th>4</th>\n",
       "      <td>2020-03-25</td>\n",
       "      <td>2457.77002</td>\n",
       "      <td>2571.41992</td>\n",
       "      <td>2407.53003</td>\n",
       "      <td>2475.34009</td>\n",
       "      <td>3183872257</td>\n",
       "      <td>SNP</td>\n",
       "    </tr>\n",
       "  </tbody>\n",
       "</table>\n",
       "</div>"
      ],
      "text/plain": [
       "     datetime        open        high         low       close      volume name\n",
       "0  2020-03-31  2614.82007  2640.98999  2571.14990  2590.37012  1971933120  SNP\n",
       "1  2020-03-30  2565.37988  2631.80005  2545.28003  2626.04004  2225339428  SNP\n",
       "2  2020-03-27  2543.04004  2615.90991  2520.65991  2540.04004  2063538660  SNP\n",
       "3  2020-03-26  2521.12012  2637.01001  2506.44995  2629.37012  2655840625  SNP\n",
       "4  2020-03-25  2457.77002  2571.41992  2407.53003  2475.34009  3183872257  SNP"
      ]
     },
     "execution_count": 12,
     "metadata": {},
     "output_type": "execute_result"
    }
   ],
   "source": [
    "#convert to csv file\n",
    "SNP_df.to_csv(\"SNP.csv\",index=False)\n",
    "SNP_df.head()"
   ]
  },
  {
   "cell_type": "markdown",
   "metadata": {},
   "source": [
    "# NASDAQ"
   ]
  },
  {
   "cell_type": "code",
   "execution_count": 13,
   "metadata": {},
   "outputs": [],
   "source": [
    "# Build the endpoint URL for NASDAQ\n",
    "# Time : one day interval\n",
    "target_url = ('https://api.twelvedata.com/time_series?symbol=IXIC&start_date=2020-01-01&interval=1day&apikey=b038f2a0c07c441693f65d634334050f')"
   ]
  },
  {
   "cell_type": "code",
   "execution_count": 14,
   "metadata": {},
   "outputs": [],
   "source": [
    "# Run a request to endpoint and convert result to json\n",
    "IXIC_data = requests.get(target_url).json()"
   ]
  },
  {
   "cell_type": "code",
   "execution_count": 15,
   "metadata": {},
   "outputs": [],
   "source": [
    "# Print the json (pretty printed)\n",
    "#print(json.dumps(IXIC_data[\"values\"], indent=4, sort_keys=True))"
   ]
  },
  {
   "cell_type": "code",
   "execution_count": 16,
   "metadata": {},
   "outputs": [],
   "source": [
    "IXIC_df = pd.DataFrame (IXIC_data[\"values\"])\n",
    "#IXIC_df= IXIC_df.rename(columns={\"index\":\"id\"})\n",
    "IXIC_df[\"name\"] = \"IXIC\""
   ]
  },
  {
   "cell_type": "code",
   "execution_count": 17,
   "metadata": {},
   "outputs": [
    {
     "data": {
      "text/html": [
       "<div>\n",
       "<style scoped>\n",
       "    .dataframe tbody tr th:only-of-type {\n",
       "        vertical-align: middle;\n",
       "    }\n",
       "\n",
       "    .dataframe tbody tr th {\n",
       "        vertical-align: top;\n",
       "    }\n",
       "\n",
       "    .dataframe thead th {\n",
       "        text-align: right;\n",
       "    }\n",
       "</style>\n",
       "<table border=\"1\" class=\"dataframe\">\n",
       "  <thead>\n",
       "    <tr style=\"text-align: right;\">\n",
       "      <th></th>\n",
       "      <th>datetime</th>\n",
       "      <th>open</th>\n",
       "      <th>high</th>\n",
       "      <th>low</th>\n",
       "      <th>close</th>\n",
       "      <th>volume</th>\n",
       "      <th>name</th>\n",
       "    </tr>\n",
       "  </thead>\n",
       "  <tbody>\n",
       "    <tr>\n",
       "      <th>0</th>\n",
       "      <td>2020-03-31</td>\n",
       "      <td>7743.04980</td>\n",
       "      <td>7880.31348</td>\n",
       "      <td>7642.87939</td>\n",
       "      <td>7702.72803</td>\n",
       "      <td>1744230223</td>\n",
       "      <td>IXIC</td>\n",
       "    </tr>\n",
       "    <tr>\n",
       "      <th>1</th>\n",
       "      <td>2020-03-30</td>\n",
       "      <td>7587.31055</td>\n",
       "      <td>7784.34619</td>\n",
       "      <td>7539.96582</td>\n",
       "      <td>7770.03711</td>\n",
       "      <td>1979451848</td>\n",
       "      <td>IXIC</td>\n",
       "    </tr>\n",
       "    <tr>\n",
       "      <th>2</th>\n",
       "      <td>2020-03-27</td>\n",
       "      <td>7574.37207</td>\n",
       "      <td>7715.94189</td>\n",
       "      <td>7493.79736</td>\n",
       "      <td>7499.83838</td>\n",
       "      <td>3446107920</td>\n",
       "      <td>IXIC</td>\n",
       "    </tr>\n",
       "    <tr>\n",
       "      <th>3</th>\n",
       "      <td>2020-03-26</td>\n",
       "      <td>7468.89111</td>\n",
       "      <td>7808.19678</td>\n",
       "      <td>7468.89111</td>\n",
       "      <td>7792.99756</td>\n",
       "      <td>6878229161</td>\n",
       "      <td>IXIC</td>\n",
       "    </tr>\n",
       "    <tr>\n",
       "      <th>4</th>\n",
       "      <td>2020-03-25</td>\n",
       "      <td>7418.16309</td>\n",
       "      <td>7670.94434</td>\n",
       "      <td>7276.55908</td>\n",
       "      <td>7383.61963</td>\n",
       "      <td>7215439423</td>\n",
       "      <td>IXIC</td>\n",
       "    </tr>\n",
       "  </tbody>\n",
       "</table>\n",
       "</div>"
      ],
      "text/plain": [
       "     datetime        open        high         low       close      volume  \\\n",
       "0  2020-03-31  7743.04980  7880.31348  7642.87939  7702.72803  1744230223   \n",
       "1  2020-03-30  7587.31055  7784.34619  7539.96582  7770.03711  1979451848   \n",
       "2  2020-03-27  7574.37207  7715.94189  7493.79736  7499.83838  3446107920   \n",
       "3  2020-03-26  7468.89111  7808.19678  7468.89111  7792.99756  6878229161   \n",
       "4  2020-03-25  7418.16309  7670.94434  7276.55908  7383.61963  7215439423   \n",
       "\n",
       "   name  \n",
       "0  IXIC  \n",
       "1  IXIC  \n",
       "2  IXIC  \n",
       "3  IXIC  \n",
       "4  IXIC  "
      ]
     },
     "execution_count": 17,
     "metadata": {},
     "output_type": "execute_result"
    }
   ],
   "source": [
    "#convert to csv file\n",
    "IXIC_df.to_csv(\"Nasdaq.csv\",index=False)\n",
    "IXIC_df.head()"
   ]
  },
  {
   "cell_type": "markdown",
   "metadata": {},
   "source": [
    "# Bitcoin"
   ]
  },
  {
   "cell_type": "code",
   "execution_count": 18,
   "metadata": {},
   "outputs": [],
   "source": [
    "# Build the endpoint URL for Bitcoin\n",
    "#Time : one day interval\n",
    "# symbol ex: BTC/USD or XRP/ETH\n",
    "# Exchange where cryptocurrency is traded is optional\n",
    "target_url = ('https://api.twelvedata.com/time_series?symbol=BTC/USD&start_date=2020-01-01&exchange=Binance&interval=1day&apikey=b038f2a0c07c441693f65d634334050f')"
   ]
  },
  {
   "cell_type": "code",
   "execution_count": 19,
   "metadata": {},
   "outputs": [],
   "source": [
    "# Run a request to endpoint and convert result to json\n",
    "BTC_data = requests.get(target_url).json()"
   ]
  },
  {
   "cell_type": "code",
   "execution_count": 20,
   "metadata": {
    "scrolled": false
   },
   "outputs": [],
   "source": [
    "# Print the json (pretty printed)\n",
    "#print(json.dumps(BTC_data[\"values\"], indent=4, sort_keys=True))"
   ]
  },
  {
   "cell_type": "code",
   "execution_count": 21,
   "metadata": {},
   "outputs": [],
   "source": [
    "BTC_df = pd.DataFrame (BTC_data[\"values\"])\n",
    "#BTC_df = BTC_df.rename(columns={\"index\":\"id\"})\n",
    "BTC_df[\"name\"] = \"BTC\"\n",
    "BTC_df[\"volume\"] = None"
   ]
  },
  {
   "cell_type": "code",
   "execution_count": 22,
   "metadata": {},
   "outputs": [
    {
     "data": {
      "text/html": [
       "<div>\n",
       "<style scoped>\n",
       "    .dataframe tbody tr th:only-of-type {\n",
       "        vertical-align: middle;\n",
       "    }\n",
       "\n",
       "    .dataframe tbody tr th {\n",
       "        vertical-align: top;\n",
       "    }\n",
       "\n",
       "    .dataframe thead th {\n",
       "        text-align: right;\n",
       "    }\n",
       "</style>\n",
       "<table border=\"1\" class=\"dataframe\">\n",
       "  <thead>\n",
       "    <tr style=\"text-align: right;\">\n",
       "      <th></th>\n",
       "      <th>datetime</th>\n",
       "      <th>open</th>\n",
       "      <th>high</th>\n",
       "      <th>low</th>\n",
       "      <th>close</th>\n",
       "      <th>name</th>\n",
       "      <th>volume</th>\n",
       "    </tr>\n",
       "  </thead>\n",
       "  <tbody>\n",
       "    <tr>\n",
       "      <th>0</th>\n",
       "      <td>2020-03-31</td>\n",
       "      <td>6384.00000</td>\n",
       "      <td>6515.29980</td>\n",
       "      <td>6341.29004</td>\n",
       "      <td>6459.43018</td>\n",
       "      <td>BTC</td>\n",
       "      <td>None</td>\n",
       "    </tr>\n",
       "    <tr>\n",
       "      <th>1</th>\n",
       "      <td>2020-03-30</td>\n",
       "      <td>5892.29004</td>\n",
       "      <td>6560.00000</td>\n",
       "      <td>5865.97998</td>\n",
       "      <td>6394.43018</td>\n",
       "      <td>BTC</td>\n",
       "      <td>None</td>\n",
       "    </tr>\n",
       "    <tr>\n",
       "      <th>2</th>\n",
       "      <td>2020-03-29</td>\n",
       "      <td>6242.02979</td>\n",
       "      <td>6261.04004</td>\n",
       "      <td>5877.54004</td>\n",
       "      <td>5882.18994</td>\n",
       "      <td>BTC</td>\n",
       "      <td>None</td>\n",
       "    </tr>\n",
       "    <tr>\n",
       "      <th>3</th>\n",
       "      <td>2020-03-28</td>\n",
       "      <td>6297.52002</td>\n",
       "      <td>6322.70020</td>\n",
       "      <td>6051.35010</td>\n",
       "      <td>6245.29004</td>\n",
       "      <td>BTC</td>\n",
       "      <td>None</td>\n",
       "    </tr>\n",
       "    <tr>\n",
       "      <th>4</th>\n",
       "      <td>2020-03-27</td>\n",
       "      <td>6745.43018</td>\n",
       "      <td>6831.70996</td>\n",
       "      <td>6323.60986</td>\n",
       "      <td>6363.50000</td>\n",
       "      <td>BTC</td>\n",
       "      <td>None</td>\n",
       "    </tr>\n",
       "  </tbody>\n",
       "</table>\n",
       "</div>"
      ],
      "text/plain": [
       "     datetime        open        high         low       close name volume\n",
       "0  2020-03-31  6384.00000  6515.29980  6341.29004  6459.43018  BTC   None\n",
       "1  2020-03-30  5892.29004  6560.00000  5865.97998  6394.43018  BTC   None\n",
       "2  2020-03-29  6242.02979  6261.04004  5877.54004  5882.18994  BTC   None\n",
       "3  2020-03-28  6297.52002  6322.70020  6051.35010  6245.29004  BTC   None\n",
       "4  2020-03-27  6745.43018  6831.70996  6323.60986  6363.50000  BTC   None"
      ]
     },
     "execution_count": 22,
     "metadata": {},
     "output_type": "execute_result"
    }
   ],
   "source": [
    "#convert to csv file\n",
    "BTC_df.to_csv(\"BTC.csv\",index=False)\n",
    "BTC_df.head()"
   ]
  },
  {
   "cell_type": "markdown",
   "metadata": {},
   "source": [
    "# Combine Indices and Bitcoin"
   ]
  },
  {
   "cell_type": "code",
   "execution_count": 23,
   "metadata": {},
   "outputs": [
    {
     "name": "stderr",
     "output_type": "stream",
     "text": [
      "C:\\Users\\kenne\\Anaconda3\\envs\\PythonData\\lib\\site-packages\\ipykernel_launcher.py:2: FutureWarning: Sorting because non-concatenation axis is not aligned. A future version\n",
      "of pandas will change to not sort by default.\n",
      "\n",
      "To accept the future behavior, pass 'sort=False'.\n",
      "\n",
      "To retain the current behavior and silence the warning, pass 'sort=True'.\n",
      "\n",
      "  \n"
     ]
    },
    {
     "data": {
      "text/html": [
       "<div>\n",
       "<style scoped>\n",
       "    .dataframe tbody tr th:only-of-type {\n",
       "        vertical-align: middle;\n",
       "    }\n",
       "\n",
       "    .dataframe tbody tr th {\n",
       "        vertical-align: top;\n",
       "    }\n",
       "\n",
       "    .dataframe thead th {\n",
       "        text-align: right;\n",
       "    }\n",
       "</style>\n",
       "<table border=\"1\" class=\"dataframe\">\n",
       "  <thead>\n",
       "    <tr style=\"text-align: right;\">\n",
       "      <th></th>\n",
       "      <th>id</th>\n",
       "      <th>close</th>\n",
       "      <th>datetime</th>\n",
       "      <th>high</th>\n",
       "      <th>low</th>\n",
       "      <th>name</th>\n",
       "      <th>open</th>\n",
       "      <th>volume</th>\n",
       "    </tr>\n",
       "  </thead>\n",
       "  <tbody>\n",
       "    <tr>\n",
       "      <th>0</th>\n",
       "      <td>0</td>\n",
       "      <td>22031.16992</td>\n",
       "      <td>2020-03-31</td>\n",
       "      <td>22480.36914</td>\n",
       "      <td>21884.60938</td>\n",
       "      <td>DJI</td>\n",
       "      <td>22208.41992</td>\n",
       "      <td>253396096</td>\n",
       "    </tr>\n",
       "    <tr>\n",
       "      <th>1</th>\n",
       "      <td>1</td>\n",
       "      <td>22322.91016</td>\n",
       "      <td>2020-03-30</td>\n",
       "      <td>22378.08984</td>\n",
       "      <td>21522.08008</td>\n",
       "      <td>DJI</td>\n",
       "      <td>21824.17969</td>\n",
       "      <td>299583961</td>\n",
       "    </tr>\n",
       "    <tr>\n",
       "      <th>2</th>\n",
       "      <td>2</td>\n",
       "      <td>21612.61914</td>\n",
       "      <td>2020-03-27</td>\n",
       "      <td>22327.57031</td>\n",
       "      <td>21472.33984</td>\n",
       "      <td>DJI</td>\n",
       "      <td>21898.47070</td>\n",
       "      <td>354169567</td>\n",
       "    </tr>\n",
       "    <tr>\n",
       "      <th>3</th>\n",
       "      <td>3</td>\n",
       "      <td>22535.64062</td>\n",
       "      <td>2020-03-26</td>\n",
       "      <td>22595.06055</td>\n",
       "      <td>21490.67969</td>\n",
       "      <td>DJI</td>\n",
       "      <td>21619.48047</td>\n",
       "      <td>403068931</td>\n",
       "    </tr>\n",
       "    <tr>\n",
       "      <th>4</th>\n",
       "      <td>4</td>\n",
       "      <td>21196.33984</td>\n",
       "      <td>2020-03-25</td>\n",
       "      <td>22019.92969</td>\n",
       "      <td>20538.33984</td>\n",
       "      <td>DJI</td>\n",
       "      <td>20860.40039</td>\n",
       "      <td>454357332</td>\n",
       "    </tr>\n",
       "  </tbody>\n",
       "</table>\n",
       "</div>"
      ],
      "text/plain": [
       "   id        close    datetime         high          low name         open  \\\n",
       "0   0  22031.16992  2020-03-31  22480.36914  21884.60938  DJI  22208.41992   \n",
       "1   1  22322.91016  2020-03-30  22378.08984  21522.08008  DJI  21824.17969   \n",
       "2   2  21612.61914  2020-03-27  22327.57031  21472.33984  DJI  21898.47070   \n",
       "3   3  22535.64062  2020-03-26  22595.06055  21490.67969  DJI  21619.48047   \n",
       "4   4  21196.33984  2020-03-25  22019.92969  20538.33984  DJI  20860.40039   \n",
       "\n",
       "      volume  \n",
       "0  253396096  \n",
       "1  299583961  \n",
       "2  354169567  \n",
       "3  403068931  \n",
       "4  454357332  "
      ]
     },
     "execution_count": 23,
     "metadata": {},
     "output_type": "execute_result"
    }
   ],
   "source": [
    "#combine stocks\n",
    "combinestocksdf = pd.concat([DJI_df,BTC_df,SNP_df,IXIC_df],ignore_index=True)\n",
    "combinestocksdf = combinestocksdf.reset_index()\n",
    "combinestocksdf = combinestocksdf.rename(columns={\"index\":\"id\"}) \n",
    "combinestocksdf.to_csv(\"stocks.csv\",index=False)\n",
    "combinestocksdf.head()"
   ]
  },
  {
   "cell_type": "markdown",
   "metadata": {},
   "source": [
    "# COVID-19"
   ]
  },
  {
   "cell_type": "code",
   "execution_count": 24,
   "metadata": {},
   "outputs": [],
   "source": [
    "# Build the endpoint URL for COVID-19\n",
    "# A summary of new and total cases per country updated daily.\n",
    "# Source : https://covid19api.com/\n",
    "\n",
    "target_url = ('https://api.covid19api.com/summary')"
   ]
  },
  {
   "cell_type": "code",
   "execution_count": 25,
   "metadata": {},
   "outputs": [],
   "source": [
    "# Run a request to endpoint and convert result to json\n",
    "COVID19_data = requests.get(target_url).json()"
   ]
  },
  {
   "cell_type": "code",
   "execution_count": 26,
   "metadata": {},
   "outputs": [],
   "source": [
    "# Print the json (pretty printed)\n",
    "#print(json.dumps(COVID19_data, indent=4, sort_keys=True))"
   ]
  },
  {
   "cell_type": "code",
   "execution_count": 27,
   "metadata": {},
   "outputs": [],
   "source": [
    "COVID19_df = pd.DataFrame (COVID19_data[\"Countries\"]).reset_index()\n",
    "COVID19_df = COVID19_df.rename(columns={\"index\":\"id\"})"
   ]
  },
  {
   "cell_type": "code",
   "execution_count": 28,
   "metadata": {},
   "outputs": [
    {
     "data": {
      "text/html": [
       "<div>\n",
       "<style scoped>\n",
       "    .dataframe tbody tr th:only-of-type {\n",
       "        vertical-align: middle;\n",
       "    }\n",
       "\n",
       "    .dataframe tbody tr th {\n",
       "        vertical-align: top;\n",
       "    }\n",
       "\n",
       "    .dataframe thead th {\n",
       "        text-align: right;\n",
       "    }\n",
       "</style>\n",
       "<table border=\"1\" class=\"dataframe\">\n",
       "  <thead>\n",
       "    <tr style=\"text-align: right;\">\n",
       "      <th></th>\n",
       "      <th>id</th>\n",
       "      <th>Country</th>\n",
       "      <th>Slug</th>\n",
       "      <th>NewConfirmed</th>\n",
       "      <th>TotalConfirmed</th>\n",
       "      <th>NewDeaths</th>\n",
       "      <th>TotalDeaths</th>\n",
       "      <th>NewRecovered</th>\n",
       "      <th>TotalRecovered</th>\n",
       "    </tr>\n",
       "  </thead>\n",
       "  <tbody>\n",
       "    <tr>\n",
       "      <th>0</th>\n",
       "      <td>0</td>\n",
       "      <td></td>\n",
       "      <td></td>\n",
       "      <td>0</td>\n",
       "      <td>0</td>\n",
       "      <td>0</td>\n",
       "      <td>0</td>\n",
       "      <td>0</td>\n",
       "      <td>0</td>\n",
       "    </tr>\n",
       "    <tr>\n",
       "      <th>1</th>\n",
       "      <td>1</td>\n",
       "      <td>Azerbaijan</td>\n",
       "      <td>-azerbaijan</td>\n",
       "      <td>0</td>\n",
       "      <td>0</td>\n",
       "      <td>0</td>\n",
       "      <td>0</td>\n",
       "      <td>0</td>\n",
       "      <td>0</td>\n",
       "    </tr>\n",
       "    <tr>\n",
       "      <th>2</th>\n",
       "      <td>2</td>\n",
       "      <td>Afghanistan</td>\n",
       "      <td>afghanistan</td>\n",
       "      <td>50</td>\n",
       "      <td>170</td>\n",
       "      <td>0</td>\n",
       "      <td>4</td>\n",
       "      <td>0</td>\n",
       "      <td>2</td>\n",
       "    </tr>\n",
       "    <tr>\n",
       "      <th>3</th>\n",
       "      <td>3</td>\n",
       "      <td>Albania</td>\n",
       "      <td>albania</td>\n",
       "      <td>11</td>\n",
       "      <td>223</td>\n",
       "      <td>1</td>\n",
       "      <td>11</td>\n",
       "      <td>11</td>\n",
       "      <td>44</td>\n",
       "    </tr>\n",
       "    <tr>\n",
       "      <th>4</th>\n",
       "      <td>4</td>\n",
       "      <td>Algeria</td>\n",
       "      <td>algeria</td>\n",
       "      <td>73</td>\n",
       "      <td>584</td>\n",
       "      <td>4</td>\n",
       "      <td>35</td>\n",
       "      <td>6</td>\n",
       "      <td>37</td>\n",
       "    </tr>\n",
       "  </tbody>\n",
       "</table>\n",
       "</div>"
      ],
      "text/plain": [
       "   id      Country         Slug  NewConfirmed  TotalConfirmed  NewDeaths  \\\n",
       "0   0                                       0               0          0   \n",
       "1   1   Azerbaijan  -azerbaijan             0               0          0   \n",
       "2   2  Afghanistan  afghanistan            50             170          0   \n",
       "3   3      Albania      albania            11             223          1   \n",
       "4   4      Algeria      algeria            73             584          4   \n",
       "\n",
       "   TotalDeaths  NewRecovered  TotalRecovered  \n",
       "0            0             0               0  \n",
       "1            0             0               0  \n",
       "2            4             0               2  \n",
       "3           11            11              44  \n",
       "4           35             6              37  "
      ]
     },
     "execution_count": 28,
     "metadata": {},
     "output_type": "execute_result"
    }
   ],
   "source": [
    "#convert to csv file\n",
    "COVID19_df.to_csv(\"COVID19.csv\",index=False)\n",
    "COVID19_df.head()"
   ]
  },
  {
   "cell_type": "code",
   "execution_count": 29,
   "metadata": {},
   "outputs": [],
   "source": [
    "# Build the endpoint URL for COVID-19 by country\n",
    "# Returns confirmed type for a country from the first recorded case. \n",
    "# Source : https://covid19api.com/\n",
    "\n",
    "target_url = ('https://api.covid19api.com/total/dayone/country/us/status/confirmed')"
   ]
  },
  {
   "cell_type": "code",
   "execution_count": 30,
   "metadata": {},
   "outputs": [],
   "source": [
    "# Run a request to endpoint and convert result to json\n",
    "US_data = requests.get(target_url).json()"
   ]
  },
  {
   "cell_type": "code",
   "execution_count": 31,
   "metadata": {},
   "outputs": [],
   "source": [
    "# Print the json (pretty printed)\n",
    "#print(json.dumps(US_data, indent=4, sort_keys=True))"
   ]
  },
  {
   "cell_type": "code",
   "execution_count": 32,
   "metadata": {},
   "outputs": [],
   "source": [
    "US_df = pd.DataFrame (US_data).reset_index()\n",
    "US_df = US_df.rename(columns={\"index\":\"id\"})"
   ]
  },
  {
   "cell_type": "code",
   "execution_count": 33,
   "metadata": {},
   "outputs": [
    {
     "data": {
      "text/html": [
       "<div>\n",
       "<style scoped>\n",
       "    .dataframe tbody tr th:only-of-type {\n",
       "        vertical-align: middle;\n",
       "    }\n",
       "\n",
       "    .dataframe tbody tr th {\n",
       "        vertical-align: top;\n",
       "    }\n",
       "\n",
       "    .dataframe thead th {\n",
       "        text-align: right;\n",
       "    }\n",
       "</style>\n",
       "<table border=\"1\" class=\"dataframe\">\n",
       "  <thead>\n",
       "    <tr style=\"text-align: right;\">\n",
       "      <th></th>\n",
       "      <th>id</th>\n",
       "      <th>Country</th>\n",
       "      <th>Province</th>\n",
       "      <th>Lat</th>\n",
       "      <th>Lon</th>\n",
       "      <th>Date</th>\n",
       "      <th>Cases</th>\n",
       "      <th>Status</th>\n",
       "    </tr>\n",
       "  </thead>\n",
       "  <tbody>\n",
       "    <tr>\n",
       "      <th>0</th>\n",
       "      <td>0</td>\n",
       "      <td>US</td>\n",
       "      <td></td>\n",
       "      <td>0</td>\n",
       "      <td>0</td>\n",
       "      <td>2020-01-22T00:00:00Z</td>\n",
       "      <td>1</td>\n",
       "      <td>confirmed</td>\n",
       "    </tr>\n",
       "    <tr>\n",
       "      <th>1</th>\n",
       "      <td>1</td>\n",
       "      <td>US</td>\n",
       "      <td></td>\n",
       "      <td>0</td>\n",
       "      <td>0</td>\n",
       "      <td>2020-01-23T00:00:00Z</td>\n",
       "      <td>1</td>\n",
       "      <td>confirmed</td>\n",
       "    </tr>\n",
       "    <tr>\n",
       "      <th>2</th>\n",
       "      <td>2</td>\n",
       "      <td>US</td>\n",
       "      <td></td>\n",
       "      <td>0</td>\n",
       "      <td>0</td>\n",
       "      <td>2020-01-24T00:00:00Z</td>\n",
       "      <td>2</td>\n",
       "      <td>confirmed</td>\n",
       "    </tr>\n",
       "    <tr>\n",
       "      <th>3</th>\n",
       "      <td>3</td>\n",
       "      <td>US</td>\n",
       "      <td></td>\n",
       "      <td>0</td>\n",
       "      <td>0</td>\n",
       "      <td>2020-01-25T00:00:00Z</td>\n",
       "      <td>2</td>\n",
       "      <td>confirmed</td>\n",
       "    </tr>\n",
       "    <tr>\n",
       "      <th>4</th>\n",
       "      <td>4</td>\n",
       "      <td>US</td>\n",
       "      <td></td>\n",
       "      <td>0</td>\n",
       "      <td>0</td>\n",
       "      <td>2020-01-26T00:00:00Z</td>\n",
       "      <td>5</td>\n",
       "      <td>confirmed</td>\n",
       "    </tr>\n",
       "  </tbody>\n",
       "</table>\n",
       "</div>"
      ],
      "text/plain": [
       "   id Country Province  Lat  Lon                  Date  Cases     Status\n",
       "0   0      US             0    0  2020-01-22T00:00:00Z      1  confirmed\n",
       "1   1      US             0    0  2020-01-23T00:00:00Z      1  confirmed\n",
       "2   2      US             0    0  2020-01-24T00:00:00Z      2  confirmed\n",
       "3   3      US             0    0  2020-01-25T00:00:00Z      2  confirmed\n",
       "4   4      US             0    0  2020-01-26T00:00:00Z      5  confirmed"
      ]
     },
     "execution_count": 33,
     "metadata": {},
     "output_type": "execute_result"
    }
   ],
   "source": [
    "#convert to csv file\n",
    "US_df.to_csv(\"US_Covid19.csv\",index=False)\n",
    "US_df.head()"
   ]
  }
 ],
 "metadata": {
  "kernelspec": {
   "display_name": "Python 3",
   "language": "python",
   "name": "python3"
  },
  "language_info": {
   "codemirror_mode": {
    "name": "ipython",
    "version": 3
   },
   "file_extension": ".py",
   "mimetype": "text/x-python",
   "name": "python",
   "nbconvert_exporter": "python",
   "pygments_lexer": "ipython3",
   "version": "3.7.5"
  }
 },
 "nbformat": 4,
 "nbformat_minor": 2
}

{
 "cells": [
  {
   "cell_type": "code",
   "execution_count": 1,
   "metadata": {},
   "outputs": [],
   "source": [
    "# Dependencies\n",
    "import pandas as pd\n",
    "import numpy as np\n",
    "import io\n",
    "import requests\n",
    "import json\n",
    "\n",
    "# API Key\n",
    "#from config import key"
   ]
  },
  {
   "cell_type": "code",
   "execution_count": 2,
   "metadata": {},
   "outputs": [],
   "source": [
    "# Import SQLAlchemy `automap` and other dependencies\n",
    "import sqlalchemy\n",
    "from sqlalchemy.ext.automap import automap_base\n",
    "from sqlalchemy.orm import Session\n",
    "from sqlalchemy import create_engine, inspect\n",
    "from sqlalchemy import Column, Integer, String, Float\n",
    "from sqlalchemy.ext.declarative import declarative_base\n",
    "Base = declarative_base()"
   ]
  },
  {
   "cell_type": "markdown",
   "metadata": {},
   "source": [
    "# Dow Jones 30 Companies"
   ]
  },
  {
   "cell_type": "code",
   "execution_count": null,
   "metadata": {},
   "outputs": [],
   "source": [
    "# Build the endpoint URL for Dow 30 companies Jones Industrial Average\n",
    "# Time : one day interval\n",
    "target_url = ('https://api.twelvedata.com/time_series?symbol=MMM,AXP,AAPL,BA,CAT,CVX,CSCO,KO,DIS,DOW,XOM,GS,HD,IBM,INTC,JNJ,JPM,MCD,MRK,MSFT,NKE,PFE,PG,TRV,UTX,UNH,VZ,V,WMT,WBA&interval=1day&format=JSON&start_date=2020-03-30%2011:18:00&end_date=2020-03-31%2011:18:00&apikey=b038f2a0c07c441693f65d634334050f')"
   ]
  },
  {
   "cell_type": "code",
   "execution_count": null,
   "metadata": {},
   "outputs": [],
   "source": [
    "# Run a request to endpoint and convert result to json\n",
    "DJ30_data = requests.get(target_url).json()"
   ]
  },
  {
   "cell_type": "code",
   "execution_count": null,
   "metadata": {},
   "outputs": [],
   "source": [
    "# Print the json (pretty printed)\n",
    "print(json.dumps(DJ30_data, indent=4, sort_keys=True))"
   ]
  },
  {
   "cell_type": "code",
   "execution_count": null,
   "metadata": {},
   "outputs": [],
   "source": [
    "DJ30_df = pd.DataFrame (DJ30_data[\"values\"])\n",
    "#DJI_df= DJI_df.rename(columns={\"index\":\"id\"})\n",
    "DJ30_df[\"name\"] = \"DJ30\""
   ]
  },
  {
   "cell_type": "code",
   "execution_count": null,
   "metadata": {},
   "outputs": [],
   "source": [
    "#convert to csv file\n",
    "DJ30_df.to_csv(\"DJ30.csv\",index=False)\n",
    "DJ30_df.head()"
   ]
  },
  {
   "cell_type": "markdown",
   "metadata": {},
   "source": [
    "# Dow Jones Industrial Average"
   ]
  },
  {
   "cell_type": "code",
   "execution_count": 3,
   "metadata": {},
   "outputs": [],
   "source": [
    "# Build the endpoint URL for Dow Jones Industrial Average\n",
    "# Time : one day interval\n",
    "target_url = ('https://api.twelvedata.com/time_series?symbol=DJI&start_date=2020-01-01&interval=1day&apikey=b038f2a0c07c441693f65d634334050f')"
   ]
  },
  {
   "cell_type": "code",
   "execution_count": 4,
   "metadata": {},
   "outputs": [],
   "source": [
    "# Run a request to endpoint and convert result to json\n",
    "DJI_data = requests.get(target_url).json()"
   ]
  },
  {
   "cell_type": "code",
   "execution_count": 5,
   "metadata": {},
   "outputs": [],
   "source": [
    "# Print the json (pretty printed)\n",
    "#print(json.dumps(DJI_data, indent=4, sort_keys=True))"
   ]
  },
  {
   "cell_type": "code",
   "execution_count": 6,
   "metadata": {},
   "outputs": [],
   "source": [
    "DJI_df = pd.DataFrame (DJI_data[\"values\"])\n",
    "#DJI_df= DJI_df.rename(columns={\"index\":\"id\"})\n",
    "DJI_df[\"name\"] = \"DJI\""
   ]
  },
  {
   "cell_type": "code",
   "execution_count": 7,
   "metadata": {},
   "outputs": [
    {
     "data": {
      "text/html": [
       "<div>\n",
       "<style scoped>\n",
       "    .dataframe tbody tr th:only-of-type {\n",
       "        vertical-align: middle;\n",
       "    }\n",
       "\n",
       "    .dataframe tbody tr th {\n",
       "        vertical-align: top;\n",
       "    }\n",
       "\n",
       "    .dataframe thead th {\n",
       "        text-align: right;\n",
       "    }\n",
       "</style>\n",
       "<table border=\"1\" class=\"dataframe\">\n",
       "  <thead>\n",
       "    <tr style=\"text-align: right;\">\n",
       "      <th></th>\n",
       "      <th>datetime</th>\n",
       "      <th>open</th>\n",
       "      <th>high</th>\n",
       "      <th>low</th>\n",
       "      <th>close</th>\n",
       "      <th>volume</th>\n",
       "      <th>name</th>\n",
       "    </tr>\n",
       "  </thead>\n",
       "  <tbody>\n",
       "    <tr>\n",
       "      <th>0</th>\n",
       "      <td>2020-04-02</td>\n",
       "      <td>20819.46094</td>\n",
       "      <td>21477.76953</td>\n",
       "      <td>20735.01953</td>\n",
       "      <td>21254.14062</td>\n",
       "      <td>135258883</td>\n",
       "      <td>DJI</td>\n",
       "    </tr>\n",
       "    <tr>\n",
       "      <th>1</th>\n",
       "      <td>2020-04-01</td>\n",
       "      <td>21044.76953</td>\n",
       "      <td>21487.24023</td>\n",
       "      <td>20784.42969</td>\n",
       "      <td>20956.18945</td>\n",
       "      <td>297331882</td>\n",
       "      <td>DJI</td>\n",
       "    </tr>\n",
       "    <tr>\n",
       "      <th>2</th>\n",
       "      <td>2020-03-31</td>\n",
       "      <td>22208.41992</td>\n",
       "      <td>22480.36914</td>\n",
       "      <td>21852.08008</td>\n",
       "      <td>21927.91016</td>\n",
       "      <td>285960369</td>\n",
       "      <td>DJI</td>\n",
       "    </tr>\n",
       "    <tr>\n",
       "      <th>3</th>\n",
       "      <td>2020-03-30</td>\n",
       "      <td>21824.17969</td>\n",
       "      <td>22378.08984</td>\n",
       "      <td>21522.08008</td>\n",
       "      <td>22322.91016</td>\n",
       "      <td>299583961</td>\n",
       "      <td>DJI</td>\n",
       "    </tr>\n",
       "    <tr>\n",
       "      <th>4</th>\n",
       "      <td>2020-03-27</td>\n",
       "      <td>21898.47070</td>\n",
       "      <td>22327.57031</td>\n",
       "      <td>21472.33984</td>\n",
       "      <td>21612.61914</td>\n",
       "      <td>354169567</td>\n",
       "      <td>DJI</td>\n",
       "    </tr>\n",
       "  </tbody>\n",
       "</table>\n",
       "</div>"
      ],
      "text/plain": [
       "     datetime         open         high          low        close     volume  \\\n",
       "0  2020-04-02  20819.46094  21477.76953  20735.01953  21254.14062  135258883   \n",
       "1  2020-04-01  21044.76953  21487.24023  20784.42969  20956.18945  297331882   \n",
       "2  2020-03-31  22208.41992  22480.36914  21852.08008  21927.91016  285960369   \n",
       "3  2020-03-30  21824.17969  22378.08984  21522.08008  22322.91016  299583961   \n",
       "4  2020-03-27  21898.47070  22327.57031  21472.33984  21612.61914  354169567   \n",
       "\n",
       "  name  \n",
       "0  DJI  \n",
       "1  DJI  \n",
       "2  DJI  \n",
       "3  DJI  \n",
       "4  DJI  "
      ]
     },
     "execution_count": 7,
     "metadata": {},
     "output_type": "execute_result"
    }
   ],
   "source": [
    "#convert to csv file\n",
    "DJI_df.to_csv(\"DJI.csv\",index=False)\n",
    "DJI_df.head()"
   ]
  },
  {
   "cell_type": "markdown",
   "metadata": {},
   "source": [
    "# S&P 500"
   ]
  },
  {
   "cell_type": "code",
   "execution_count": 8,
   "metadata": {},
   "outputs": [],
   "source": [
    "# Build the endpoint URL for S&P 500\n",
    "# Time : one day interval\n",
    "target_url = ('https://api.twelvedata.com/time_series?symbol=GSPC&start_date=2020-01-01&interval=1day&apikey=b038f2a0c07c441693f65d634334050f')"
   ]
  },
  {
   "cell_type": "code",
   "execution_count": 9,
   "metadata": {},
   "outputs": [],
   "source": [
    "# Run a request to endpoint and convert result to json\n",
    "SNP_data = requests.get(target_url).json()"
   ]
  },
  {
   "cell_type": "code",
   "execution_count": 10,
   "metadata": {},
   "outputs": [],
   "source": [
    "# Print the json (pretty printed)\n",
    "#print(json.dumps(SNP_data[\"values\"], indent=4, sort_keys=True))"
   ]
  },
  {
   "cell_type": "code",
   "execution_count": 11,
   "metadata": {},
   "outputs": [],
   "source": [
    "SNP_df = pd.DataFrame (SNP_data[\"values\"])\n",
    "#SNP_df= SNP_df.rename(columns={\"index\":\"id\"})\n",
    "SNP_df[\"name\"] = \"SNP\""
   ]
  },
  {
   "cell_type": "code",
   "execution_count": 12,
   "metadata": {},
   "outputs": [
    {
     "data": {
      "text/html": [
       "<div>\n",
       "<style scoped>\n",
       "    .dataframe tbody tr th:only-of-type {\n",
       "        vertical-align: middle;\n",
       "    }\n",
       "\n",
       "    .dataframe tbody tr th {\n",
       "        vertical-align: top;\n",
       "    }\n",
       "\n",
       "    .dataframe thead th {\n",
       "        text-align: right;\n",
       "    }\n",
       "</style>\n",
       "<table border=\"1\" class=\"dataframe\">\n",
       "  <thead>\n",
       "    <tr style=\"text-align: right;\">\n",
       "      <th></th>\n",
       "      <th>datetime</th>\n",
       "      <th>open</th>\n",
       "      <th>high</th>\n",
       "      <th>low</th>\n",
       "      <th>close</th>\n",
       "      <th>volume</th>\n",
       "      <th>name</th>\n",
       "    </tr>\n",
       "  </thead>\n",
       "  <tbody>\n",
       "    <tr>\n",
       "      <th>0</th>\n",
       "      <td>2020-04-02</td>\n",
       "      <td>2457.53003</td>\n",
       "      <td>2532.76001</td>\n",
       "      <td>2455.80005</td>\n",
       "      <td>2511.78003</td>\n",
       "      <td>1099107376</td>\n",
       "      <td>SNP</td>\n",
       "    </tr>\n",
       "    <tr>\n",
       "      <th>1</th>\n",
       "      <td>2020-04-01</td>\n",
       "      <td>2490.07007</td>\n",
       "      <td>2522.75000</td>\n",
       "      <td>2447.48999</td>\n",
       "      <td>2471.87012</td>\n",
       "      <td>2584120998</td>\n",
       "      <td>SNP</td>\n",
       "    </tr>\n",
       "    <tr>\n",
       "      <th>2</th>\n",
       "      <td>2020-03-31</td>\n",
       "      <td>2614.82007</td>\n",
       "      <td>2640.98999</td>\n",
       "      <td>2571.14990</td>\n",
       "      <td>2578.52002</td>\n",
       "      <td>2407325533</td>\n",
       "      <td>SNP</td>\n",
       "    </tr>\n",
       "    <tr>\n",
       "      <th>3</th>\n",
       "      <td>2020-03-30</td>\n",
       "      <td>2565.37988</td>\n",
       "      <td>2631.80005</td>\n",
       "      <td>2545.28003</td>\n",
       "      <td>2626.04004</td>\n",
       "      <td>2225339428</td>\n",
       "      <td>SNP</td>\n",
       "    </tr>\n",
       "    <tr>\n",
       "      <th>4</th>\n",
       "      <td>2020-03-27</td>\n",
       "      <td>2543.04004</td>\n",
       "      <td>2615.90991</td>\n",
       "      <td>2520.65991</td>\n",
       "      <td>2540.04004</td>\n",
       "      <td>2063538660</td>\n",
       "      <td>SNP</td>\n",
       "    </tr>\n",
       "  </tbody>\n",
       "</table>\n",
       "</div>"
      ],
      "text/plain": [
       "     datetime        open        high         low       close      volume name\n",
       "0  2020-04-02  2457.53003  2532.76001  2455.80005  2511.78003  1099107376  SNP\n",
       "1  2020-04-01  2490.07007  2522.75000  2447.48999  2471.87012  2584120998  SNP\n",
       "2  2020-03-31  2614.82007  2640.98999  2571.14990  2578.52002  2407325533  SNP\n",
       "3  2020-03-30  2565.37988  2631.80005  2545.28003  2626.04004  2225339428  SNP\n",
       "4  2020-03-27  2543.04004  2615.90991  2520.65991  2540.04004  2063538660  SNP"
      ]
     },
     "execution_count": 12,
     "metadata": {},
     "output_type": "execute_result"
    }
   ],
   "source": [
    "#convert to csv file\n",
    "SNP_df.to_csv(\"SNP.csv\",index=False)\n",
    "SNP_df.head()"
   ]
  },
  {
   "cell_type": "markdown",
   "metadata": {},
   "source": [
    "# NASDAQ"
   ]
  },
  {
   "cell_type": "code",
   "execution_count": 13,
   "metadata": {},
   "outputs": [],
   "source": [
    "# Build the endpoint URL for NASDAQ \n",
    "# Time : one day interval\n",
    "target_url = ('https://api.twelvedata.com/time_series?symbol=IXIC&start_date=2020-01-01&interval=1day&apikey=b038f2a0c07c441693f65d634334050f')"
   ]
  },
  {
   "cell_type": "code",
   "execution_count": 14,
   "metadata": {},
   "outputs": [],
   "source": [
    "# Run a request to endpoint and convert result to json\n",
    "IXIC_data = requests.get(target_url).json()"
   ]
  },
  {
   "cell_type": "code",
   "execution_count": 15,
   "metadata": {},
   "outputs": [],
   "source": [
    "# Print the json (pretty printed)\n",
    "#print(json.dumps(IXIC_data[\"values\"], indent=4, sort_keys=True))"
   ]
  },
  {
   "cell_type": "code",
   "execution_count": 16,
   "metadata": {},
   "outputs": [],
   "source": [
    "IXIC_df = pd.DataFrame (IXIC_data[\"values\"])\n",
    "#IXIC_df= IXIC_df.rename(columns={\"index\":\"id\"})\n",
    "IXIC_df[\"name\"] = \"IXIC\""
   ]
  },
  {
   "cell_type": "code",
   "execution_count": 17,
   "metadata": {},
   "outputs": [
    {
     "data": {
      "text/html": [
       "<div>\n",
       "<style scoped>\n",
       "    .dataframe tbody tr th:only-of-type {\n",
       "        vertical-align: middle;\n",
       "    }\n",
       "\n",
       "    .dataframe tbody tr th {\n",
       "        vertical-align: top;\n",
       "    }\n",
       "\n",
       "    .dataframe thead th {\n",
       "        text-align: right;\n",
       "    }\n",
       "</style>\n",
       "<table border=\"1\" class=\"dataframe\">\n",
       "  <thead>\n",
       "    <tr style=\"text-align: right;\">\n",
       "      <th></th>\n",
       "      <th>datetime</th>\n",
       "      <th>open</th>\n",
       "      <th>high</th>\n",
       "      <th>low</th>\n",
       "      <th>close</th>\n",
       "      <th>volume</th>\n",
       "      <th>name</th>\n",
       "    </tr>\n",
       "  </thead>\n",
       "  <tbody>\n",
       "    <tr>\n",
       "      <th>0</th>\n",
       "      <td>2020-04-02</td>\n",
       "      <td>7323.77344</td>\n",
       "      <td>7501.69824</td>\n",
       "      <td>7308.38867</td>\n",
       "      <td>7464.50049</td>\n",
       "      <td>2174373598</td>\n",
       "      <td>IXIC</td>\n",
       "    </tr>\n",
       "    <tr>\n",
       "      <th>1</th>\n",
       "      <td>2020-04-01</td>\n",
       "      <td>7459.72363</td>\n",
       "      <td>7566.34619</td>\n",
       "      <td>7301.97852</td>\n",
       "      <td>7365.45605</td>\n",
       "      <td>4434303357</td>\n",
       "      <td>IXIC</td>\n",
       "    </tr>\n",
       "    <tr>\n",
       "      <th>2</th>\n",
       "      <td>2020-03-31</td>\n",
       "      <td>7743.04980</td>\n",
       "      <td>7880.31348</td>\n",
       "      <td>7642.87939</td>\n",
       "      <td>7694.66943</td>\n",
       "      <td>1761597860</td>\n",
       "      <td>IXIC</td>\n",
       "    </tr>\n",
       "    <tr>\n",
       "      <th>3</th>\n",
       "      <td>2020-03-30</td>\n",
       "      <td>7587.31055</td>\n",
       "      <td>7784.34619</td>\n",
       "      <td>7539.96582</td>\n",
       "      <td>7770.03711</td>\n",
       "      <td>1979451848</td>\n",
       "      <td>IXIC</td>\n",
       "    </tr>\n",
       "    <tr>\n",
       "      <th>4</th>\n",
       "      <td>2020-03-27</td>\n",
       "      <td>7574.37207</td>\n",
       "      <td>7715.94189</td>\n",
       "      <td>7493.79736</td>\n",
       "      <td>7499.83838</td>\n",
       "      <td>3446107920</td>\n",
       "      <td>IXIC</td>\n",
       "    </tr>\n",
       "  </tbody>\n",
       "</table>\n",
       "</div>"
      ],
      "text/plain": [
       "     datetime        open        high         low       close      volume  \\\n",
       "0  2020-04-02  7323.77344  7501.69824  7308.38867  7464.50049  2174373598   \n",
       "1  2020-04-01  7459.72363  7566.34619  7301.97852  7365.45605  4434303357   \n",
       "2  2020-03-31  7743.04980  7880.31348  7642.87939  7694.66943  1761597860   \n",
       "3  2020-03-30  7587.31055  7784.34619  7539.96582  7770.03711  1979451848   \n",
       "4  2020-03-27  7574.37207  7715.94189  7493.79736  7499.83838  3446107920   \n",
       "\n",
       "   name  \n",
       "0  IXIC  \n",
       "1  IXIC  \n",
       "2  IXIC  \n",
       "3  IXIC  \n",
       "4  IXIC  "
      ]
     },
     "execution_count": 17,
     "metadata": {},
     "output_type": "execute_result"
    }
   ],
   "source": [
    "#convert to csv file\n",
    "IXIC_df.to_csv(\"Nasdaq.csv\",index=False)\n",
    "IXIC_df.head()"
   ]
  },
  {
   "cell_type": "markdown",
   "metadata": {},
   "source": [
    "# VIX"
   ]
  },
  {
   "cell_type": "code",
   "execution_count": 64,
   "metadata": {},
   "outputs": [],
   "source": [
    "# Build the endpoint URL for VIX \n",
    "# Time : one day interval\n",
    "target_url = ('https://api.twelvedata.com/time_series?symbol=VIX&start_date=2020-01-01&interval=1day&apikey=b038f2a0c07c441693f65d634334050f')"
   ]
  },
  {
   "cell_type": "code",
   "execution_count": 65,
   "metadata": {},
   "outputs": [],
   "source": [
    "# Run a request to endpoint and convert result to json\n",
    "VIX_data = requests.get(target_url).json()"
   ]
  },
  {
   "cell_type": "code",
   "execution_count": 66,
   "metadata": {},
   "outputs": [],
   "source": [
    "# Print the json (pretty printed)\n",
    "#print(json.dumps(VIX_data[\"values\"], indent=4, sort_keys=True))"
   ]
  },
  {
   "cell_type": "code",
   "execution_count": 67,
   "metadata": {},
   "outputs": [],
   "source": [
    "VIX_df = pd.DataFrame (VIX_data[\"values\"])\n",
    "#VIX_df= VIX_df.rename(columns={\"index\":\"id\"})\n",
    "VIX_df[\"name\"] = \"VIX\""
   ]
  },
  {
   "cell_type": "code",
   "execution_count": 68,
   "metadata": {},
   "outputs": [
    {
     "data": {
      "text/html": [
       "<div>\n",
       "<style scoped>\n",
       "    .dataframe tbody tr th:only-of-type {\n",
       "        vertical-align: middle;\n",
       "    }\n",
       "\n",
       "    .dataframe tbody tr th {\n",
       "        vertical-align: top;\n",
       "    }\n",
       "\n",
       "    .dataframe thead th {\n",
       "        text-align: right;\n",
       "    }\n",
       "</style>\n",
       "<table border=\"1\" class=\"dataframe\">\n",
       "  <thead>\n",
       "    <tr style=\"text-align: right;\">\n",
       "      <th></th>\n",
       "      <th>datetime</th>\n",
       "      <th>open</th>\n",
       "      <th>high</th>\n",
       "      <th>low</th>\n",
       "      <th>close</th>\n",
       "      <th>volume</th>\n",
       "    </tr>\n",
       "  </thead>\n",
       "  <tbody>\n",
       "    <tr>\n",
       "      <th>0</th>\n",
       "      <td>2020-04-02</td>\n",
       "      <td>55.38000</td>\n",
       "      <td>56.91000</td>\n",
       "      <td>52.16000</td>\n",
       "      <td>52.16000</td>\n",
       "      <td>0</td>\n",
       "    </tr>\n",
       "    <tr>\n",
       "      <th>1</th>\n",
       "      <td>2020-04-01</td>\n",
       "      <td>56.56000</td>\n",
       "      <td>58.64000</td>\n",
       "      <td>52.93000</td>\n",
       "      <td>56.45000</td>\n",
       "      <td>0</td>\n",
       "    </tr>\n",
       "    <tr>\n",
       "      <th>2</th>\n",
       "      <td>2020-03-31</td>\n",
       "      <td>56.38000</td>\n",
       "      <td>56.38000</td>\n",
       "      <td>50.91000</td>\n",
       "      <td>53.39000</td>\n",
       "      <td>0</td>\n",
       "    </tr>\n",
       "    <tr>\n",
       "      <th>3</th>\n",
       "      <td>2020-03-30</td>\n",
       "      <td>63.22000</td>\n",
       "      <td>64.25000</td>\n",
       "      <td>56.60000</td>\n",
       "      <td>56.86000</td>\n",
       "      <td>0</td>\n",
       "    </tr>\n",
       "    <tr>\n",
       "      <th>4</th>\n",
       "      <td>2020-03-27</td>\n",
       "      <td>67.60000</td>\n",
       "      <td>67.67000</td>\n",
       "      <td>61.80000</td>\n",
       "      <td>65.16000</td>\n",
       "      <td>0</td>\n",
       "    </tr>\n",
       "  </tbody>\n",
       "</table>\n",
       "</div>"
      ],
      "text/plain": [
       "     datetime      open      high       low     close volume\n",
       "0  2020-04-02  55.38000  56.91000  52.16000  52.16000      0\n",
       "1  2020-04-01  56.56000  58.64000  52.93000  56.45000      0\n",
       "2  2020-03-31  56.38000  56.38000  50.91000  53.39000      0\n",
       "3  2020-03-30  63.22000  64.25000  56.60000  56.86000      0\n",
       "4  2020-03-27  67.60000  67.67000  61.80000  65.16000      0"
      ]
     },
     "execution_count": 68,
     "metadata": {},
     "output_type": "execute_result"
    }
   ],
   "source": [
    "#convert to csv file\n",
    "VIX_df.to_csv(\"VIX.csv\",index=False)\n",
    "VIX_df.head()"
   ]
  },
  {
   "cell_type": "markdown",
   "metadata": {},
   "source": [
    "# Bitcoin"
   ]
  },
  {
   "cell_type": "code",
   "execution_count": 23,
   "metadata": {},
   "outputs": [],
   "source": [
    "# Build the endpoint URL for Bitcoin\n",
    "#Time : one day interval\n",
    "# symbol ex: BTC/USD or XRP/ETH\n",
    "# Exchange where cryptocurrency is traded is optional\n",
    "target_url = ('https://api.twelvedata.com/time_series?symbol=BTC/USD&start_date=2020-01-01&exchange=Binance&interval=1day&apikey=b038f2a0c07c441693f65d634334050f')"
   ]
  },
  {
   "cell_type": "code",
   "execution_count": 24,
   "metadata": {},
   "outputs": [],
   "source": [
    "# Run a request to endpoint and convert result to json\n",
    "BTC_data = requests.get(target_url).json()"
   ]
  },
  {
   "cell_type": "code",
   "execution_count": 25,
   "metadata": {
    "scrolled": false
   },
   "outputs": [],
   "source": [
    "# Print the json (pretty printed)\n",
    "#print(json.dumps(BTC_data[\"values\"], indent=4, sort_keys=True))"
   ]
  },
  {
   "cell_type": "code",
   "execution_count": 26,
   "metadata": {},
   "outputs": [],
   "source": [
    "BTC_df = pd.DataFrame (BTC_data[\"values\"])\n",
    "#BTC_df = BTC_df.rename(columns={\"index\":\"id\"})\n",
    "BTC_df[\"name\"] = \"BTC\"\n",
    "BTC_df[\"volume\"] = None"
   ]
  },
  {
   "cell_type": "code",
   "execution_count": 27,
   "metadata": {},
   "outputs": [
    {
     "data": {
      "text/html": [
       "<div>\n",
       "<style scoped>\n",
       "    .dataframe tbody tr th:only-of-type {\n",
       "        vertical-align: middle;\n",
       "    }\n",
       "\n",
       "    .dataframe tbody tr th {\n",
       "        vertical-align: top;\n",
       "    }\n",
       "\n",
       "    .dataframe thead th {\n",
       "        text-align: right;\n",
       "    }\n",
       "</style>\n",
       "<table border=\"1\" class=\"dataframe\">\n",
       "  <thead>\n",
       "    <tr style=\"text-align: right;\">\n",
       "      <th></th>\n",
       "      <th>datetime</th>\n",
       "      <th>open</th>\n",
       "      <th>high</th>\n",
       "      <th>low</th>\n",
       "      <th>close</th>\n",
       "      <th>name</th>\n",
       "      <th>volume</th>\n",
       "    </tr>\n",
       "  </thead>\n",
       "  <tbody>\n",
       "    <tr>\n",
       "      <th>0</th>\n",
       "      <td>2020-04-02</td>\n",
       "      <td>6699.58008</td>\n",
       "      <td>6810.00000</td>\n",
       "      <td>6569.14014</td>\n",
       "      <td>6810.00000</td>\n",
       "      <td>BTC</td>\n",
       "      <td>None</td>\n",
       "    </tr>\n",
       "    <tr>\n",
       "      <th>1</th>\n",
       "      <td>2020-04-01</td>\n",
       "      <td>6423.12988</td>\n",
       "      <td>6669.81006</td>\n",
       "      <td>6153.66992</td>\n",
       "      <td>6639.93994</td>\n",
       "      <td>BTC</td>\n",
       "      <td>None</td>\n",
       "    </tr>\n",
       "    <tr>\n",
       "      <th>2</th>\n",
       "      <td>2020-03-31</td>\n",
       "      <td>6384.00000</td>\n",
       "      <td>6515.29980</td>\n",
       "      <td>6341.29004</td>\n",
       "      <td>6410.77002</td>\n",
       "      <td>BTC</td>\n",
       "      <td>None</td>\n",
       "    </tr>\n",
       "    <tr>\n",
       "      <th>3</th>\n",
       "      <td>2020-03-30</td>\n",
       "      <td>5892.29004</td>\n",
       "      <td>6560.00000</td>\n",
       "      <td>5865.97998</td>\n",
       "      <td>6394.43018</td>\n",
       "      <td>BTC</td>\n",
       "      <td>None</td>\n",
       "    </tr>\n",
       "    <tr>\n",
       "      <th>4</th>\n",
       "      <td>2020-03-29</td>\n",
       "      <td>6242.02979</td>\n",
       "      <td>6261.04004</td>\n",
       "      <td>5877.54004</td>\n",
       "      <td>5882.18994</td>\n",
       "      <td>BTC</td>\n",
       "      <td>None</td>\n",
       "    </tr>\n",
       "  </tbody>\n",
       "</table>\n",
       "</div>"
      ],
      "text/plain": [
       "     datetime        open        high         low       close name volume\n",
       "0  2020-04-02  6699.58008  6810.00000  6569.14014  6810.00000  BTC   None\n",
       "1  2020-04-01  6423.12988  6669.81006  6153.66992  6639.93994  BTC   None\n",
       "2  2020-03-31  6384.00000  6515.29980  6341.29004  6410.77002  BTC   None\n",
       "3  2020-03-30  5892.29004  6560.00000  5865.97998  6394.43018  BTC   None\n",
       "4  2020-03-29  6242.02979  6261.04004  5877.54004  5882.18994  BTC   None"
      ]
     },
     "execution_count": 27,
     "metadata": {},
     "output_type": "execute_result"
    }
   ],
   "source": [
    "#convert to csv file\n",
    "BTC_df.to_csv(\"BTC.csv\",index=False)\n",
    "BTC_df.head()"
   ]
  },
  {
   "cell_type": "markdown",
   "metadata": {},
   "source": [
    "# Combine Indices and Bitcoin"
   ]
  },
  {
   "cell_type": "code",
   "execution_count": 28,
   "metadata": {},
   "outputs": [
    {
     "name": "stderr",
     "output_type": "stream",
     "text": [
      "C:\\Users\\kenne\\Anaconda3\\envs\\PythonData\\lib\\site-packages\\ipykernel_launcher.py:2: FutureWarning: Sorting because non-concatenation axis is not aligned. A future version\n",
      "of pandas will change to not sort by default.\n",
      "\n",
      "To accept the future behavior, pass 'sort=False'.\n",
      "\n",
      "To retain the current behavior and silence the warning, pass 'sort=True'.\n",
      "\n",
      "  \n"
     ]
    },
    {
     "data": {
      "text/html": [
       "<div>\n",
       "<style scoped>\n",
       "    .dataframe tbody tr th:only-of-type {\n",
       "        vertical-align: middle;\n",
       "    }\n",
       "\n",
       "    .dataframe tbody tr th {\n",
       "        vertical-align: top;\n",
       "    }\n",
       "\n",
       "    .dataframe thead th {\n",
       "        text-align: right;\n",
       "    }\n",
       "</style>\n",
       "<table border=\"1\" class=\"dataframe\">\n",
       "  <thead>\n",
       "    <tr style=\"text-align: right;\">\n",
       "      <th></th>\n",
       "      <th>id</th>\n",
       "      <th>close</th>\n",
       "      <th>datetime</th>\n",
       "      <th>high</th>\n",
       "      <th>low</th>\n",
       "      <th>name</th>\n",
       "      <th>open</th>\n",
       "      <th>volume</th>\n",
       "    </tr>\n",
       "  </thead>\n",
       "  <tbody>\n",
       "    <tr>\n",
       "      <th>0</th>\n",
       "      <td>0</td>\n",
       "      <td>21254.14062</td>\n",
       "      <td>2020-04-02</td>\n",
       "      <td>21477.76953</td>\n",
       "      <td>20735.01953</td>\n",
       "      <td>DJI</td>\n",
       "      <td>20819.46094</td>\n",
       "      <td>135258883</td>\n",
       "    </tr>\n",
       "    <tr>\n",
       "      <th>1</th>\n",
       "      <td>1</td>\n",
       "      <td>20956.18945</td>\n",
       "      <td>2020-04-01</td>\n",
       "      <td>21487.24023</td>\n",
       "      <td>20784.42969</td>\n",
       "      <td>DJI</td>\n",
       "      <td>21044.76953</td>\n",
       "      <td>297331882</td>\n",
       "    </tr>\n",
       "    <tr>\n",
       "      <th>2</th>\n",
       "      <td>2</td>\n",
       "      <td>21927.91016</td>\n",
       "      <td>2020-03-31</td>\n",
       "      <td>22480.36914</td>\n",
       "      <td>21852.08008</td>\n",
       "      <td>DJI</td>\n",
       "      <td>22208.41992</td>\n",
       "      <td>285960369</td>\n",
       "    </tr>\n",
       "    <tr>\n",
       "      <th>3</th>\n",
       "      <td>3</td>\n",
       "      <td>22322.91016</td>\n",
       "      <td>2020-03-30</td>\n",
       "      <td>22378.08984</td>\n",
       "      <td>21522.08008</td>\n",
       "      <td>DJI</td>\n",
       "      <td>21824.17969</td>\n",
       "      <td>299583961</td>\n",
       "    </tr>\n",
       "    <tr>\n",
       "      <th>4</th>\n",
       "      <td>4</td>\n",
       "      <td>21612.61914</td>\n",
       "      <td>2020-03-27</td>\n",
       "      <td>22327.57031</td>\n",
       "      <td>21472.33984</td>\n",
       "      <td>DJI</td>\n",
       "      <td>21898.47070</td>\n",
       "      <td>354169567</td>\n",
       "    </tr>\n",
       "  </tbody>\n",
       "</table>\n",
       "</div>"
      ],
      "text/plain": [
       "   id        close    datetime         high          low name         open  \\\n",
       "0   0  21254.14062  2020-04-02  21477.76953  20735.01953  DJI  20819.46094   \n",
       "1   1  20956.18945  2020-04-01  21487.24023  20784.42969  DJI  21044.76953   \n",
       "2   2  21927.91016  2020-03-31  22480.36914  21852.08008  DJI  22208.41992   \n",
       "3   3  22322.91016  2020-03-30  22378.08984  21522.08008  DJI  21824.17969   \n",
       "4   4  21612.61914  2020-03-27  22327.57031  21472.33984  DJI  21898.47070   \n",
       "\n",
       "      volume  \n",
       "0  135258883  \n",
       "1  297331882  \n",
       "2  285960369  \n",
       "3  299583961  \n",
       "4  354169567  "
      ]
     },
     "execution_count": 28,
     "metadata": {},
     "output_type": "execute_result"
    }
   ],
   "source": [
    "#combine stocks\n",
    "combinestocksdf = pd.concat([DJI_df,BTC_df,SNP_df,IXIC_df,VIX_df],ignore_index=True)\n",
    "combinestocksdf = combinestocksdf.reset_index()\n",
    "combinestocksdf = combinestocksdf.rename(columns={\"index\":\"id\"}) \n",
    "combinestocksdf.to_csv(\"stocks.csv\",index=False)\n",
    "combinestocksdf.head()"
   ]
  },
  {
   "cell_type": "markdown",
   "metadata": {},
   "source": [
    "# COVID-19"
   ]
  },
  {
   "cell_type": "code",
   "execution_count": 29,
   "metadata": {},
   "outputs": [],
   "source": [
    "# Build the endpoint URL for COVID-19\n",
    "# A summary of new and total cases per country updated daily.\n",
    "# Source : https://covid19api.com/\n",
    "\n",
    "target_url = ('https://api.covid19api.com/summary')"
   ]
  },
  {
   "cell_type": "code",
   "execution_count": 30,
   "metadata": {},
   "outputs": [],
   "source": [
    "# Run a request to endpoint and convert result to json\n",
    "COVID19_data = requests.get(target_url).json()"
   ]
  },
  {
   "cell_type": "code",
   "execution_count": 31,
   "metadata": {},
   "outputs": [],
   "source": [
    "# Print the json (pretty printed)\n",
    "#print(json.dumps(COVID19_data, indent=4, sort_keys=True))"
   ]
  },
  {
   "cell_type": "code",
   "execution_count": 32,
   "metadata": {},
   "outputs": [],
   "source": [
    "COVID19_df = pd.DataFrame (COVID19_data[\"Countries\"]).reset_index()\n",
    "COVID19_df = COVID19_df.rename(columns={\"index\":\"id\"})"
   ]
  },
  {
   "cell_type": "code",
   "execution_count": 33,
   "metadata": {},
   "outputs": [
    {
     "data": {
      "text/html": [
       "<div>\n",
       "<style scoped>\n",
       "    .dataframe tbody tr th:only-of-type {\n",
       "        vertical-align: middle;\n",
       "    }\n",
       "\n",
       "    .dataframe tbody tr th {\n",
       "        vertical-align: top;\n",
       "    }\n",
       "\n",
       "    .dataframe thead th {\n",
       "        text-align: right;\n",
       "    }\n",
       "</style>\n",
       "<table border=\"1\" class=\"dataframe\">\n",
       "  <thead>\n",
       "    <tr style=\"text-align: right;\">\n",
       "      <th></th>\n",
       "      <th>id</th>\n",
       "      <th>Country</th>\n",
       "      <th>Slug</th>\n",
       "      <th>NewConfirmed</th>\n",
       "      <th>TotalConfirmed</th>\n",
       "      <th>NewDeaths</th>\n",
       "      <th>TotalDeaths</th>\n",
       "      <th>NewRecovered</th>\n",
       "      <th>TotalRecovered</th>\n",
       "    </tr>\n",
       "  </thead>\n",
       "  <tbody>\n",
       "    <tr>\n",
       "      <th>0</th>\n",
       "      <td>0</td>\n",
       "      <td></td>\n",
       "      <td></td>\n",
       "      <td>0</td>\n",
       "      <td>0</td>\n",
       "      <td>0</td>\n",
       "      <td>0</td>\n",
       "      <td>0</td>\n",
       "      <td>0</td>\n",
       "    </tr>\n",
       "    <tr>\n",
       "      <th>1</th>\n",
       "      <td>1</td>\n",
       "      <td>Azerbaijan</td>\n",
       "      <td>-azerbaijan</td>\n",
       "      <td>0</td>\n",
       "      <td>0</td>\n",
       "      <td>0</td>\n",
       "      <td>0</td>\n",
       "      <td>0</td>\n",
       "      <td>0</td>\n",
       "    </tr>\n",
       "    <tr>\n",
       "      <th>2</th>\n",
       "      <td>2</td>\n",
       "      <td>Afghanistan</td>\n",
       "      <td>afghanistan</td>\n",
       "      <td>63</td>\n",
       "      <td>237</td>\n",
       "      <td>0</td>\n",
       "      <td>4</td>\n",
       "      <td>0</td>\n",
       "      <td>5</td>\n",
       "    </tr>\n",
       "    <tr>\n",
       "      <th>3</th>\n",
       "      <td>3</td>\n",
       "      <td>Albania</td>\n",
       "      <td>albania</td>\n",
       "      <td>16</td>\n",
       "      <td>259</td>\n",
       "      <td>0</td>\n",
       "      <td>15</td>\n",
       "      <td>15</td>\n",
       "      <td>67</td>\n",
       "    </tr>\n",
       "    <tr>\n",
       "      <th>4</th>\n",
       "      <td>4</td>\n",
       "      <td>Algeria</td>\n",
       "      <td>algeria</td>\n",
       "      <td>131</td>\n",
       "      <td>847</td>\n",
       "      <td>14</td>\n",
       "      <td>58</td>\n",
       "      <td>15</td>\n",
       "      <td>61</td>\n",
       "    </tr>\n",
       "  </tbody>\n",
       "</table>\n",
       "</div>"
      ],
      "text/plain": [
       "   id      Country         Slug  NewConfirmed  TotalConfirmed  NewDeaths  \\\n",
       "0   0                                       0               0          0   \n",
       "1   1   Azerbaijan  -azerbaijan             0               0          0   \n",
       "2   2  Afghanistan  afghanistan            63             237          0   \n",
       "3   3      Albania      albania            16             259          0   \n",
       "4   4      Algeria      algeria           131             847         14   \n",
       "\n",
       "   TotalDeaths  NewRecovered  TotalRecovered  \n",
       "0            0             0               0  \n",
       "1            0             0               0  \n",
       "2            4             0               5  \n",
       "3           15            15              67  \n",
       "4           58            15              61  "
      ]
     },
     "execution_count": 33,
     "metadata": {},
     "output_type": "execute_result"
    }
   ],
   "source": [
    "#convert to csv file\n",
    "COVID19_df.to_csv(\"COVID19.csv\",index=False)\n",
    "COVID19_df.head()"
   ]
  },
  {
   "cell_type": "markdown",
   "metadata": {},
   "source": [
    "# COVID-19 by country - Italy\n"
   ]
  },
  {
   "cell_type": "code",
   "execution_count": 34,
   "metadata": {},
   "outputs": [],
   "source": [
    "# Build the endpoint URL for COVID-19 by country\n",
    "# Returns confirmed type for a country from the first recorded case. \n",
    "# Source : https://covid19api.com/\n",
    "\n",
    "target_url = ('https://api.covid19api.com/total/dayone/country/italy/status/confirmed')"
   ]
  },
  {
   "cell_type": "code",
   "execution_count": 35,
   "metadata": {},
   "outputs": [],
   "source": [
    "# Run a request to endpoint and convert result to json\n",
    "IT_data = requests.get(target_url).json()"
   ]
  },
  {
   "cell_type": "code",
   "execution_count": 36,
   "metadata": {},
   "outputs": [],
   "source": [
    "# Print the json (pretty printed)\n",
    "#print(json.dumps(US_data, indent=4, sort_keys=True))"
   ]
  },
  {
   "cell_type": "code",
   "execution_count": 37,
   "metadata": {},
   "outputs": [],
   "source": [
    "IT_df = pd.DataFrame (IT_data).reset_index()\n",
    "IT_df = IT_df.rename(columns={\"index\":\"id\"})"
   ]
  },
  {
   "cell_type": "code",
   "execution_count": 38,
   "metadata": {},
   "outputs": [
    {
     "data": {
      "text/html": [
       "<div>\n",
       "<style scoped>\n",
       "    .dataframe tbody tr th:only-of-type {\n",
       "        vertical-align: middle;\n",
       "    }\n",
       "\n",
       "    .dataframe tbody tr th {\n",
       "        vertical-align: top;\n",
       "    }\n",
       "\n",
       "    .dataframe thead th {\n",
       "        text-align: right;\n",
       "    }\n",
       "</style>\n",
       "<table border=\"1\" class=\"dataframe\">\n",
       "  <thead>\n",
       "    <tr style=\"text-align: right;\">\n",
       "      <th></th>\n",
       "      <th>id</th>\n",
       "      <th>Country</th>\n",
       "      <th>Province</th>\n",
       "      <th>Lat</th>\n",
       "      <th>Lon</th>\n",
       "      <th>Date</th>\n",
       "      <th>Cases</th>\n",
       "      <th>Status</th>\n",
       "    </tr>\n",
       "  </thead>\n",
       "  <tbody>\n",
       "    <tr>\n",
       "      <th>0</th>\n",
       "      <td>0</td>\n",
       "      <td>Italy</td>\n",
       "      <td></td>\n",
       "      <td>0</td>\n",
       "      <td>0</td>\n",
       "      <td>2020-01-31T00:00:00Z</td>\n",
       "      <td>2</td>\n",
       "      <td>confirmed</td>\n",
       "    </tr>\n",
       "    <tr>\n",
       "      <th>1</th>\n",
       "      <td>1</td>\n",
       "      <td>Italy</td>\n",
       "      <td></td>\n",
       "      <td>0</td>\n",
       "      <td>0</td>\n",
       "      <td>2020-02-01T00:00:00Z</td>\n",
       "      <td>2</td>\n",
       "      <td>confirmed</td>\n",
       "    </tr>\n",
       "    <tr>\n",
       "      <th>2</th>\n",
       "      <td>2</td>\n",
       "      <td>Italy</td>\n",
       "      <td></td>\n",
       "      <td>0</td>\n",
       "      <td>0</td>\n",
       "      <td>2020-02-02T00:00:00Z</td>\n",
       "      <td>2</td>\n",
       "      <td>confirmed</td>\n",
       "    </tr>\n",
       "    <tr>\n",
       "      <th>3</th>\n",
       "      <td>3</td>\n",
       "      <td>Italy</td>\n",
       "      <td></td>\n",
       "      <td>0</td>\n",
       "      <td>0</td>\n",
       "      <td>2020-02-03T00:00:00Z</td>\n",
       "      <td>2</td>\n",
       "      <td>confirmed</td>\n",
       "    </tr>\n",
       "    <tr>\n",
       "      <th>4</th>\n",
       "      <td>4</td>\n",
       "      <td>Italy</td>\n",
       "      <td></td>\n",
       "      <td>0</td>\n",
       "      <td>0</td>\n",
       "      <td>2020-02-04T00:00:00Z</td>\n",
       "      <td>2</td>\n",
       "      <td>confirmed</td>\n",
       "    </tr>\n",
       "  </tbody>\n",
       "</table>\n",
       "</div>"
      ],
      "text/plain": [
       "   id Country Province  Lat  Lon                  Date  Cases     Status\n",
       "0   0   Italy             0    0  2020-01-31T00:00:00Z      2  confirmed\n",
       "1   1   Italy             0    0  2020-02-01T00:00:00Z      2  confirmed\n",
       "2   2   Italy             0    0  2020-02-02T00:00:00Z      2  confirmed\n",
       "3   3   Italy             0    0  2020-02-03T00:00:00Z      2  confirmed\n",
       "4   4   Italy             0    0  2020-02-04T00:00:00Z      2  confirmed"
      ]
     },
     "execution_count": 38,
     "metadata": {},
     "output_type": "execute_result"
    }
   ],
   "source": [
    "#convert to csv file\n",
    "IT_df.to_csv(\"IT_Covid19.csv\",index=False)\n",
    "IT_df.head()"
   ]
  },
  {
   "cell_type": "markdown",
   "metadata": {},
   "source": [
    "# COVID-19 by country - China"
   ]
  },
  {
   "cell_type": "code",
   "execution_count": 39,
   "metadata": {},
   "outputs": [],
   "source": [
    "# Build the endpoint URL for COVID-19 by country\n",
    "# Returns confirmed type for a country from the first recorded case. \n",
    "# Source : https://covid19api.com/\n",
    "\n",
    "target_url = ('https://api.covid19api.com/total/dayone/country/china/status/confirmed')"
   ]
  },
  {
   "cell_type": "code",
   "execution_count": 40,
   "metadata": {},
   "outputs": [],
   "source": [
    "# Run a request to endpoint and convert result to json\n",
    "CN_data = requests.get(target_url).json()"
   ]
  },
  {
   "cell_type": "code",
   "execution_count": 41,
   "metadata": {},
   "outputs": [],
   "source": [
    "# Print the json (pretty printed)\n",
    "#print(json.dumps(US_data, indent=4, sort_keys=True))"
   ]
  },
  {
   "cell_type": "code",
   "execution_count": 42,
   "metadata": {},
   "outputs": [],
   "source": [
    "CN_df = pd.DataFrame (CN_data).reset_index()\n",
    "CN_df = CN_df.rename(columns={\"index\":\"id\"})"
   ]
  },
  {
   "cell_type": "code",
   "execution_count": 43,
   "metadata": {},
   "outputs": [
    {
     "data": {
      "text/html": [
       "<div>\n",
       "<style scoped>\n",
       "    .dataframe tbody tr th:only-of-type {\n",
       "        vertical-align: middle;\n",
       "    }\n",
       "\n",
       "    .dataframe tbody tr th {\n",
       "        vertical-align: top;\n",
       "    }\n",
       "\n",
       "    .dataframe thead th {\n",
       "        text-align: right;\n",
       "    }\n",
       "</style>\n",
       "<table border=\"1\" class=\"dataframe\">\n",
       "  <thead>\n",
       "    <tr style=\"text-align: right;\">\n",
       "      <th></th>\n",
       "      <th>id</th>\n",
       "      <th>Country</th>\n",
       "      <th>Province</th>\n",
       "      <th>Lat</th>\n",
       "      <th>Lon</th>\n",
       "      <th>Date</th>\n",
       "      <th>Cases</th>\n",
       "      <th>Status</th>\n",
       "    </tr>\n",
       "  </thead>\n",
       "  <tbody>\n",
       "    <tr>\n",
       "      <th>0</th>\n",
       "      <td>0</td>\n",
       "      <td>China</td>\n",
       "      <td></td>\n",
       "      <td>0</td>\n",
       "      <td>0</td>\n",
       "      <td>2020-01-22T00:00:00Z</td>\n",
       "      <td>548</td>\n",
       "      <td>confirmed</td>\n",
       "    </tr>\n",
       "    <tr>\n",
       "      <th>1</th>\n",
       "      <td>1</td>\n",
       "      <td>China</td>\n",
       "      <td></td>\n",
       "      <td>0</td>\n",
       "      <td>0</td>\n",
       "      <td>2020-01-23T00:00:00Z</td>\n",
       "      <td>643</td>\n",
       "      <td>confirmed</td>\n",
       "    </tr>\n",
       "    <tr>\n",
       "      <th>2</th>\n",
       "      <td>2</td>\n",
       "      <td>China</td>\n",
       "      <td></td>\n",
       "      <td>0</td>\n",
       "      <td>0</td>\n",
       "      <td>2020-01-24T00:00:00Z</td>\n",
       "      <td>920</td>\n",
       "      <td>confirmed</td>\n",
       "    </tr>\n",
       "    <tr>\n",
       "      <th>3</th>\n",
       "      <td>3</td>\n",
       "      <td>China</td>\n",
       "      <td></td>\n",
       "      <td>0</td>\n",
       "      <td>0</td>\n",
       "      <td>2020-01-25T00:00:00Z</td>\n",
       "      <td>1406</td>\n",
       "      <td>confirmed</td>\n",
       "    </tr>\n",
       "    <tr>\n",
       "      <th>4</th>\n",
       "      <td>4</td>\n",
       "      <td>China</td>\n",
       "      <td></td>\n",
       "      <td>0</td>\n",
       "      <td>0</td>\n",
       "      <td>2020-01-26T00:00:00Z</td>\n",
       "      <td>2075</td>\n",
       "      <td>confirmed</td>\n",
       "    </tr>\n",
       "  </tbody>\n",
       "</table>\n",
       "</div>"
      ],
      "text/plain": [
       "   id Country Province  Lat  Lon                  Date  Cases     Status\n",
       "0   0   China             0    0  2020-01-22T00:00:00Z    548  confirmed\n",
       "1   1   China             0    0  2020-01-23T00:00:00Z    643  confirmed\n",
       "2   2   China             0    0  2020-01-24T00:00:00Z    920  confirmed\n",
       "3   3   China             0    0  2020-01-25T00:00:00Z   1406  confirmed\n",
       "4   4   China             0    0  2020-01-26T00:00:00Z   2075  confirmed"
      ]
     },
     "execution_count": 43,
     "metadata": {},
     "output_type": "execute_result"
    }
   ],
   "source": [
    "#convert to csv file\n",
    "CN_df.to_csv(\"CN_Covid19.csv\",index=False)\n",
    "CN_df.head()"
   ]
  },
  {
   "cell_type": "markdown",
   "metadata": {},
   "source": [
    "# COVID-19 by country - US"
   ]
  },
  {
   "cell_type": "code",
   "execution_count": 44,
   "metadata": {},
   "outputs": [],
   "source": [
    "# Build the endpoint URL for COVID-19 by country\n",
    "# Returns confirmed type for a country from the first recorded case. \n",
    "# Source : https://covid19api.com/\n",
    "\n",
    "target_url = ('https://api.covid19api.com/total/dayone/country/us/status/confirmed')"
   ]
  },
  {
   "cell_type": "code",
   "execution_count": 45,
   "metadata": {},
   "outputs": [],
   "source": [
    "# Run a request to endpoint and convert result to json\n",
    "US_data = requests.get(target_url).json()"
   ]
  },
  {
   "cell_type": "code",
   "execution_count": 46,
   "metadata": {},
   "outputs": [],
   "source": [
    "# Print the json (pretty printed)\n",
    "#print(json.dumps(US_data, indent=4, sort_keys=True))"
   ]
  },
  {
   "cell_type": "code",
   "execution_count": 47,
   "metadata": {},
   "outputs": [],
   "source": [
    "US_df = pd.DataFrame (US_data).reset_index()\n",
    "US_df = US_df.rename(columns={\"index\":\"id\"})"
   ]
  },
  {
   "cell_type": "code",
   "execution_count": 48,
   "metadata": {},
   "outputs": [
    {
     "data": {
      "text/html": [
       "<div>\n",
       "<style scoped>\n",
       "    .dataframe tbody tr th:only-of-type {\n",
       "        vertical-align: middle;\n",
       "    }\n",
       "\n",
       "    .dataframe tbody tr th {\n",
       "        vertical-align: top;\n",
       "    }\n",
       "\n",
       "    .dataframe thead th {\n",
       "        text-align: right;\n",
       "    }\n",
       "</style>\n",
       "<table border=\"1\" class=\"dataframe\">\n",
       "  <thead>\n",
       "    <tr style=\"text-align: right;\">\n",
       "      <th></th>\n",
       "      <th>id</th>\n",
       "      <th>Country</th>\n",
       "      <th>Province</th>\n",
       "      <th>Lat</th>\n",
       "      <th>Lon</th>\n",
       "      <th>Date</th>\n",
       "      <th>Cases</th>\n",
       "      <th>Status</th>\n",
       "    </tr>\n",
       "  </thead>\n",
       "  <tbody>\n",
       "    <tr>\n",
       "      <th>0</th>\n",
       "      <td>0</td>\n",
       "      <td>US</td>\n",
       "      <td></td>\n",
       "      <td>0</td>\n",
       "      <td>0</td>\n",
       "      <td>2020-01-22T00:00:00Z</td>\n",
       "      <td>1</td>\n",
       "      <td>confirmed</td>\n",
       "    </tr>\n",
       "    <tr>\n",
       "      <th>1</th>\n",
       "      <td>1</td>\n",
       "      <td>US</td>\n",
       "      <td></td>\n",
       "      <td>0</td>\n",
       "      <td>0</td>\n",
       "      <td>2020-01-23T00:00:00Z</td>\n",
       "      <td>1</td>\n",
       "      <td>confirmed</td>\n",
       "    </tr>\n",
       "    <tr>\n",
       "      <th>2</th>\n",
       "      <td>2</td>\n",
       "      <td>US</td>\n",
       "      <td></td>\n",
       "      <td>0</td>\n",
       "      <td>0</td>\n",
       "      <td>2020-01-24T00:00:00Z</td>\n",
       "      <td>2</td>\n",
       "      <td>confirmed</td>\n",
       "    </tr>\n",
       "    <tr>\n",
       "      <th>3</th>\n",
       "      <td>3</td>\n",
       "      <td>US</td>\n",
       "      <td></td>\n",
       "      <td>0</td>\n",
       "      <td>0</td>\n",
       "      <td>2020-01-25T00:00:00Z</td>\n",
       "      <td>2</td>\n",
       "      <td>confirmed</td>\n",
       "    </tr>\n",
       "    <tr>\n",
       "      <th>4</th>\n",
       "      <td>4</td>\n",
       "      <td>US</td>\n",
       "      <td></td>\n",
       "      <td>0</td>\n",
       "      <td>0</td>\n",
       "      <td>2020-01-26T00:00:00Z</td>\n",
       "      <td>5</td>\n",
       "      <td>confirmed</td>\n",
       "    </tr>\n",
       "  </tbody>\n",
       "</table>\n",
       "</div>"
      ],
      "text/plain": [
       "   id Country Province  Lat  Lon                  Date  Cases     Status\n",
       "0   0      US             0    0  2020-01-22T00:00:00Z      1  confirmed\n",
       "1   1      US             0    0  2020-01-23T00:00:00Z      1  confirmed\n",
       "2   2      US             0    0  2020-01-24T00:00:00Z      2  confirmed\n",
       "3   3      US             0    0  2020-01-25T00:00:00Z      2  confirmed\n",
       "4   4      US             0    0  2020-01-26T00:00:00Z      5  confirmed"
      ]
     },
     "execution_count": 48,
     "metadata": {},
     "output_type": "execute_result"
    }
   ],
   "source": [
    "#convert to csv file\n",
    "US_df.to_csv(\"US_Covid19.csv\",index=False)\n",
    "US_df.head()"
   ]
  },
  {
   "cell_type": "markdown",
   "metadata": {},
   "source": [
    "# COVID-19 by country - ALL"
   ]
  },
  {
   "cell_type": "code",
   "execution_count": 49,
   "metadata": {},
   "outputs": [],
   "source": [
    "# Build the endpoint URL for COVID-19 by country all data\n",
    "# Returns confirmed type for a country from the first recorded case. \n",
    "# Source : https://covid19api.com/\n",
    "\n",
    "target_url = ('https://api.covid19api.com/all')"
   ]
  },
  {
   "cell_type": "code",
   "execution_count": 50,
   "metadata": {},
   "outputs": [],
   "source": [
    "# Run a request to endpoint and convert result to json\n",
    "all_data = requests.get(target_url).json()"
   ]
  },
  {
   "cell_type": "code",
   "execution_count": 51,
   "metadata": {},
   "outputs": [],
   "source": [
    "# Print the json (pretty printed)\n",
    "#print(json.dumps(US_data, indent=4, sort_keys=True))"
   ]
  },
  {
   "cell_type": "code",
   "execution_count": 52,
   "metadata": {},
   "outputs": [],
   "source": [
    "all_df = pd.DataFrame (all_data).reset_index()\n",
    "all_df = all_df.rename(columns={\"index\":\"id\"})"
   ]
  },
  {
   "cell_type": "code",
   "execution_count": 53,
   "metadata": {},
   "outputs": [
    {
     "data": {
      "text/html": [
       "<div>\n",
       "<style scoped>\n",
       "    .dataframe tbody tr th:only-of-type {\n",
       "        vertical-align: middle;\n",
       "    }\n",
       "\n",
       "    .dataframe tbody tr th {\n",
       "        vertical-align: top;\n",
       "    }\n",
       "\n",
       "    .dataframe thead th {\n",
       "        text-align: right;\n",
       "    }\n",
       "</style>\n",
       "<table border=\"1\" class=\"dataframe\">\n",
       "  <thead>\n",
       "    <tr style=\"text-align: right;\">\n",
       "      <th></th>\n",
       "      <th>id</th>\n",
       "      <th>Country</th>\n",
       "      <th>Province</th>\n",
       "      <th>Lat</th>\n",
       "      <th>Lon</th>\n",
       "      <th>Date</th>\n",
       "      <th>Cases</th>\n",
       "      <th>Status</th>\n",
       "    </tr>\n",
       "  </thead>\n",
       "  <tbody>\n",
       "    <tr>\n",
       "      <th>0</th>\n",
       "      <td>0</td>\n",
       "      <td></td>\n",
       "      <td></td>\n",
       "      <td>0.0000</td>\n",
       "      <td>0.0000</td>\n",
       "      <td>0001-01-01T00:00:00Z</td>\n",
       "      <td>0</td>\n",
       "      <td></td>\n",
       "    </tr>\n",
       "    <tr>\n",
       "      <th>1</th>\n",
       "      <td>1</td>\n",
       "      <td>Azerbaijan</td>\n",
       "      <td></td>\n",
       "      <td>0.0000</td>\n",
       "      <td>0.0000</td>\n",
       "      <td>2020-02-28T00:00:00Z</td>\n",
       "      <td>1</td>\n",
       "      <td>confirmed</td>\n",
       "    </tr>\n",
       "    <tr>\n",
       "      <th>2</th>\n",
       "      <td>2</td>\n",
       "      <td>Azerbaijan</td>\n",
       "      <td></td>\n",
       "      <td>0.0000</td>\n",
       "      <td>0.0000</td>\n",
       "      <td>2020-02-28T00:00:00Z</td>\n",
       "      <td>0</td>\n",
       "      <td>recovered</td>\n",
       "    </tr>\n",
       "    <tr>\n",
       "      <th>3</th>\n",
       "      <td>3</td>\n",
       "      <td>Azerbaijan</td>\n",
       "      <td></td>\n",
       "      <td>0.0000</td>\n",
       "      <td>0.0000</td>\n",
       "      <td>2020-02-28T00:00:00Z</td>\n",
       "      <td>0</td>\n",
       "      <td>deaths</td>\n",
       "    </tr>\n",
       "    <tr>\n",
       "      <th>4</th>\n",
       "      <td>4</td>\n",
       "      <td>Afghanistan</td>\n",
       "      <td></td>\n",
       "      <td>33.0000</td>\n",
       "      <td>65.0000</td>\n",
       "      <td>2020-02-24T00:00:00Z</td>\n",
       "      <td>1</td>\n",
       "      <td>confirmed</td>\n",
       "    </tr>\n",
       "    <tr>\n",
       "      <th>...</th>\n",
       "      <td>...</td>\n",
       "      <td>...</td>\n",
       "      <td>...</td>\n",
       "      <td>...</td>\n",
       "      <td>...</td>\n",
       "      <td>...</td>\n",
       "      <td>...</td>\n",
       "      <td>...</td>\n",
       "    </tr>\n",
       "    <tr>\n",
       "      <th>121178</th>\n",
       "      <td>121178</td>\n",
       "      <td>Zimbabwe</td>\n",
       "      <td></td>\n",
       "      <td>-19.0154</td>\n",
       "      <td>29.1549</td>\n",
       "      <td>2020-03-31T00:00:00Z</td>\n",
       "      <td>0</td>\n",
       "      <td>recovered</td>\n",
       "    </tr>\n",
       "    <tr>\n",
       "      <th>121179</th>\n",
       "      <td>121179</td>\n",
       "      <td>Zimbabwe</td>\n",
       "      <td></td>\n",
       "      <td>-19.0154</td>\n",
       "      <td>29.1549</td>\n",
       "      <td>2020-03-31T00:00:00Z</td>\n",
       "      <td>1</td>\n",
       "      <td>deaths</td>\n",
       "    </tr>\n",
       "    <tr>\n",
       "      <th>121180</th>\n",
       "      <td>121180</td>\n",
       "      <td>Zimbabwe</td>\n",
       "      <td></td>\n",
       "      <td>-19.0154</td>\n",
       "      <td>29.1549</td>\n",
       "      <td>2020-04-01T00:00:00Z</td>\n",
       "      <td>8</td>\n",
       "      <td>confirmed</td>\n",
       "    </tr>\n",
       "    <tr>\n",
       "      <th>121181</th>\n",
       "      <td>121181</td>\n",
       "      <td>Zimbabwe</td>\n",
       "      <td></td>\n",
       "      <td>-19.0154</td>\n",
       "      <td>29.1549</td>\n",
       "      <td>2020-04-01T00:00:00Z</td>\n",
       "      <td>0</td>\n",
       "      <td>recovered</td>\n",
       "    </tr>\n",
       "    <tr>\n",
       "      <th>121182</th>\n",
       "      <td>121182</td>\n",
       "      <td>Zimbabwe</td>\n",
       "      <td></td>\n",
       "      <td>-19.0154</td>\n",
       "      <td>29.1549</td>\n",
       "      <td>2020-04-01T00:00:00Z</td>\n",
       "      <td>1</td>\n",
       "      <td>deaths</td>\n",
       "    </tr>\n",
       "  </tbody>\n",
       "</table>\n",
       "<p>121183 rows × 8 columns</p>\n",
       "</div>"
      ],
      "text/plain": [
       "            id      Country Province      Lat      Lon                  Date  \\\n",
       "0            0                         0.0000   0.0000  0001-01-01T00:00:00Z   \n",
       "1            1   Azerbaijan            0.0000   0.0000  2020-02-28T00:00:00Z   \n",
       "2            2   Azerbaijan            0.0000   0.0000  2020-02-28T00:00:00Z   \n",
       "3            3   Azerbaijan            0.0000   0.0000  2020-02-28T00:00:00Z   \n",
       "4            4  Afghanistan           33.0000  65.0000  2020-02-24T00:00:00Z   \n",
       "...        ...          ...      ...      ...      ...                   ...   \n",
       "121178  121178     Zimbabwe          -19.0154  29.1549  2020-03-31T00:00:00Z   \n",
       "121179  121179     Zimbabwe          -19.0154  29.1549  2020-03-31T00:00:00Z   \n",
       "121180  121180     Zimbabwe          -19.0154  29.1549  2020-04-01T00:00:00Z   \n",
       "121181  121181     Zimbabwe          -19.0154  29.1549  2020-04-01T00:00:00Z   \n",
       "121182  121182     Zimbabwe          -19.0154  29.1549  2020-04-01T00:00:00Z   \n",
       "\n",
       "        Cases     Status  \n",
       "0           0             \n",
       "1           1  confirmed  \n",
       "2           0  recovered  \n",
       "3           0     deaths  \n",
       "4           1  confirmed  \n",
       "...       ...        ...  \n",
       "121178      0  recovered  \n",
       "121179      1     deaths  \n",
       "121180      8  confirmed  \n",
       "121181      0  recovered  \n",
       "121182      1     deaths  \n",
       "\n",
       "[121183 rows x 8 columns]"
      ]
     },
     "execution_count": 53,
     "metadata": {},
     "output_type": "execute_result"
    }
   ],
   "source": [
    "#convert to csv file\n",
    "all_df.to_csv(\"all_Covid19.csv\",index=False)\n",
    "all_df"
   ]
  },
  {
   "cell_type": "code",
   "execution_count": null,
   "metadata": {},
   "outputs": [],
   "source": []
  }
 ],
 "metadata": {
  "kernelspec": {
   "display_name": "Python 3",
   "language": "python",
   "name": "python3"
  },
  "language_info": {
   "codemirror_mode": {
    "name": "ipython",
    "version": 3
   },
   "file_extension": ".py",
   "mimetype": "text/x-python",
   "name": "python",
   "nbconvert_exporter": "python",
   "pygments_lexer": "ipython3",
   "version": "3.7.5"
  }
 },
 "nbformat": 4,
 "nbformat_minor": 2
}
